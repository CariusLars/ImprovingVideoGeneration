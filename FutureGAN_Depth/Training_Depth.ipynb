{
  "nbformat": 4,
  "nbformat_minor": 0,
  "metadata": {
    "colab": {
      "name": "Training_Depth.ipynb",
      "provenance": [],
      "collapsed_sections": [],
      "toc_visible": true
    },
    "kernelspec": {
      "name": "python3",
      "display_name": "Python 3"
    },
    "accelerator": "GPU"
  },
  "cells": [
    {
      "cell_type": "markdown",
      "metadata": {
        "id": "OlhIpWW5RtsI",
        "colab_type": "text"
      },
      "source": [
        "**Check GPU**"
      ]
    },
    {
      "cell_type": "code",
      "metadata": {
        "id": "NQ2tw-Ogej5C",
        "colab_type": "code",
        "outputId": "a858b300-2fc5-49bc-c8d7-76d727c33f6d",
        "colab": {
          "base_uri": "https://localhost:8080/",
          "height": 312
        }
      },
      "source": [
        "!nvidia-smi\n"
      ],
      "execution_count": 0,
      "outputs": [
        {
          "output_type": "stream",
          "text": [
            "Sun Jan 26 14:27:53 2020       \n",
            "+-----------------------------------------------------------------------------+\n",
            "| NVIDIA-SMI 440.44       Driver Version: 418.67       CUDA Version: 10.1     |\n",
            "|-------------------------------+----------------------+----------------------+\n",
            "| GPU  Name        Persistence-M| Bus-Id        Disp.A | Volatile Uncorr. ECC |\n",
            "| Fan  Temp  Perf  Pwr:Usage/Cap|         Memory-Usage | GPU-Util  Compute M. |\n",
            "|===============================+======================+======================|\n",
            "|   0  Tesla T4            Off  | 00000000:00:04.0 Off |                    0 |\n",
            "| N/A   53C    P8    11W /  70W |      0MiB / 15079MiB |      0%      Default |\n",
            "+-------------------------------+----------------------+----------------------+\n",
            "                                                                               \n",
            "+-----------------------------------------------------------------------------+\n",
            "| Processes:                                                       GPU Memory |\n",
            "|  GPU       PID   Type   Process name                             Usage      |\n",
            "|=============================================================================|\n",
            "|  No running processes found                                                 |\n",
            "+-----------------------------------------------------------------------------+\n"
          ],
          "name": "stdout"
        }
      ]
    },
    {
      "cell_type": "markdown",
      "metadata": {
        "id": "CrV-QT1AIysg",
        "colab_type": "text"
      },
      "source": [
        "**Clone repo** "
      ]
    },
    {
      "cell_type": "code",
      "metadata": {
        "id": "G7x_Jo-dF4lV",
        "colab_type": "code",
        "outputId": "46a9394d-329a-438d-e9b3-bfc2faf3f86a",
        "colab": {
          "base_uri": "https://localhost:8080/",
          "height": 278
        }
      },
      "source": [
        "from getpass import getpass\n",
        "import os\n",
        "%cd ~\n",
        "user = getpass('Gitlab user')\n",
        "password = getpass('Gitlab password')\n",
        "os.environ['GIT_AUTH'] = user + ':' + password\n",
        "\n",
        "!git clone https://$GIT_AUTH@gitlab.lrz.de/ge82yic/futuregan.git\n",
        "%cd futuregan\n",
        "!git checkout depth_in\n",
        "!git pull"
      ],
      "execution_count": 0,
      "outputs": [
        {
          "output_type": "stream",
          "text": [
            "/root\n",
            "Gitlab user··········\n",
            "Gitlab password··········\n",
            "Cloning into 'futuregan'...\n",
            "remote: Enumerating objects: 30758, done.\u001b[K\n",
            "remote: Counting objects: 100% (30758/30758), done.\u001b[K\n",
            "remote: Compressing objects: 100% (15563/15563), done.\u001b[K\n",
            "remote: Total 31208 (delta 15219), reused 30727 (delta 15195)\u001b[K\n",
            "Receiving objects: 100% (31208/31208), 88.32 MiB | 19.01 MiB/s, done.\n",
            "Resolving deltas: 100% (15436/15436), done.\n",
            "/root/futuregan\n",
            "Checking out files: 100% (30883/30883), done.\n",
            "Branch 'depth_in' set up to track remote branch 'depth_in' from 'origin'.\n",
            "Switched to a new branch 'depth_in'\n",
            "Already up to date.\n"
          ],
          "name": "stdout"
        }
      ]
    },
    {
      "cell_type": "markdown",
      "metadata": {
        "id": "oQuLyWFTNnCX",
        "colab_type": "text"
      },
      "source": [
        "**Mount google drive**"
      ]
    },
    {
      "cell_type": "code",
      "metadata": {
        "id": "B53NhZEFNoOa",
        "colab_type": "code",
        "outputId": "0629bf93-fee5-4316-c0eb-f78813f6c377",
        "colab": {
          "base_uri": "https://localhost:8080/",
          "height": 124
        }
      },
      "source": [
        "from google.colab import drive\n",
        "\n",
        "drive.mount('/content/gdrive', force_remount=True)\n",
        "root_path = '/content/gdrive/My Drive/ADL4CV/Code' "
      ],
      "execution_count": 0,
      "outputs": [
        {
          "output_type": "stream",
          "text": [
            "Go to this URL in a browser: https://accounts.google.com/o/oauth2/auth?client_id=947318989803-6bn6qk8qdgf4n4g3pfee6491hc0brc4i.apps.googleusercontent.com&redirect_uri=urn%3aietf%3awg%3aoauth%3a2.0%3aoob&response_type=code&scope=email%20https%3a%2f%2fwww.googleapis.com%2fauth%2fdocs.test%20https%3a%2f%2fwww.googleapis.com%2fauth%2fdrive%20https%3a%2f%2fwww.googleapis.com%2fauth%2fdrive.photos.readonly%20https%3a%2f%2fwww.googleapis.com%2fauth%2fpeopleapi.readonly\n",
            "\n",
            "Enter your authorization code:\n",
            "··········\n",
            "Mounted at /content/gdrive\n"
          ],
          "name": "stdout"
        }
      ]
    },
    {
      "cell_type": "markdown",
      "metadata": {
        "id": "p0kMjvsUR8lP",
        "colab_type": "text"
      },
      "source": [
        "**Install Tensorboard**"
      ]
    },
    {
      "cell_type": "code",
      "metadata": {
        "id": "I3JqW_DfQYNh",
        "colab_type": "code",
        "outputId": "3bc97a46-a7d6-417a-bdb8-b1752e2d2e27",
        "colab": {
          "base_uri": "https://localhost:8080/",
          "height": 1000
        }
      },
      "source": [
        "!pip3 uninstall tensor2tensor -y\n",
        "!pip3 uninstall tensorboard -y\n",
        "!pip3 uninstall tensorboardcolab -y\n",
        "!pip3 uninstall tensorflow-datasets -y    \n",
        "!pip3 uninstall tensorflow-estimator -y   \n",
        "!pip3 uninstall tensorflow-gan -y\n",
        "!pip3 uninstall tensorflow-hub -y    \n",
        "!pip3 uninstall tensorflow-metadata -y\n",
        "!pip3 uninstall tensorflow-privacy -y \n",
        "!pip3 uninstall tensorflow-probability -y\n",
        "!pip3 install --upgrade tensorflow==1.15\n",
        "!pip3 show tensorflow\n",
        "!pip3 install --upgrade grpcio"
      ],
      "execution_count": 0,
      "outputs": [
        {
          "output_type": "stream",
          "text": [
            "Uninstalling tensor2tensor-1.14.1:\n",
            "  Successfully uninstalled tensor2tensor-1.14.1\n",
            "Uninstalling tensorboard-1.15.0:\n",
            "  Successfully uninstalled tensorboard-1.15.0\n",
            "Uninstalling tensorboardcolab-0.0.22:\n",
            "  Successfully uninstalled tensorboardcolab-0.0.22\n",
            "Uninstalling tensorflow-datasets-1.3.2:\n",
            "  Successfully uninstalled tensorflow-datasets-1.3.2\n",
            "Uninstalling tensorflow-estimator-1.15.1:\n",
            "  Successfully uninstalled tensorflow-estimator-1.15.1\n",
            "Uninstalling tensorflow-gan-2.0.0:\n",
            "  Successfully uninstalled tensorflow-gan-2.0.0\n",
            "Uninstalling tensorflow-hub-0.7.0:\n",
            "  Successfully uninstalled tensorflow-hub-0.7.0\n",
            "Uninstalling tensorflow-metadata-0.15.2:\n",
            "  Successfully uninstalled tensorflow-metadata-0.15.2\n",
            "Uninstalling tensorflow-privacy-0.2.2:\n",
            "  Successfully uninstalled tensorflow-privacy-0.2.2\n",
            "Uninstalling tensorflow-probability-0.7.0:\n",
            "  Successfully uninstalled tensorflow-probability-0.7.0\n",
            "Requirement already up-to-date: tensorflow==1.15 in /usr/local/lib/python3.6/dist-packages (1.15.0)\n",
            "Requirement already satisfied, skipping upgrade: keras-preprocessing>=1.0.5 in /usr/local/lib/python3.6/dist-packages (from tensorflow==1.15) (1.1.0)\n",
            "Requirement already satisfied, skipping upgrade: opt-einsum>=2.3.2 in /usr/local/lib/python3.6/dist-packages (from tensorflow==1.15) (3.1.0)\n",
            "Collecting tensorboard<1.16.0,>=1.15.0\n",
            "\u001b[?25l  Downloading https://files.pythonhosted.org/packages/1e/e9/d3d747a97f7188f48aa5eda486907f3b345cd409f0a0850468ba867db246/tensorboard-1.15.0-py3-none-any.whl (3.8MB)\n",
            "\u001b[K     |████████████████████████████████| 3.8MB 8.7MB/s \n",
            "\u001b[?25hRequirement already satisfied, skipping upgrade: grpcio>=1.8.6 in /usr/local/lib/python3.6/dist-packages (from tensorflow==1.15) (1.15.0)\n",
            "Collecting tensorflow-estimator==1.15.1\n",
            "\u001b[?25l  Downloading https://files.pythonhosted.org/packages/de/62/2ee9cd74c9fa2fa450877847ba560b260f5d0fb70ee0595203082dafcc9d/tensorflow_estimator-1.15.1-py2.py3-none-any.whl (503kB)\n",
            "\u001b[K     |████████████████████████████████| 512kB 55.2MB/s \n",
            "\u001b[?25hRequirement already satisfied, skipping upgrade: keras-applications>=1.0.8 in /usr/local/lib/python3.6/dist-packages (from tensorflow==1.15) (1.0.8)\n",
            "Requirement already satisfied, skipping upgrade: astor>=0.6.0 in /usr/local/lib/python3.6/dist-packages (from tensorflow==1.15) (0.8.1)\n",
            "Requirement already satisfied, skipping upgrade: numpy<2.0,>=1.16.0 in /usr/local/lib/python3.6/dist-packages (from tensorflow==1.15) (1.17.5)\n",
            "Requirement already satisfied, skipping upgrade: six>=1.10.0 in /usr/local/lib/python3.6/dist-packages (from tensorflow==1.15) (1.12.0)\n",
            "Requirement already satisfied, skipping upgrade: wheel>=0.26 in /usr/local/lib/python3.6/dist-packages (from tensorflow==1.15) (0.33.6)\n",
            "Requirement already satisfied, skipping upgrade: google-pasta>=0.1.6 in /usr/local/lib/python3.6/dist-packages (from tensorflow==1.15) (0.1.8)\n",
            "Requirement already satisfied, skipping upgrade: absl-py>=0.7.0 in /usr/local/lib/python3.6/dist-packages (from tensorflow==1.15) (0.9.0)\n",
            "Requirement already satisfied, skipping upgrade: protobuf>=3.6.1 in /usr/local/lib/python3.6/dist-packages (from tensorflow==1.15) (3.10.0)\n",
            "Requirement already satisfied, skipping upgrade: gast==0.2.2 in /usr/local/lib/python3.6/dist-packages (from tensorflow==1.15) (0.2.2)\n",
            "Requirement already satisfied, skipping upgrade: termcolor>=1.1.0 in /usr/local/lib/python3.6/dist-packages (from tensorflow==1.15) (1.1.0)\n",
            "Requirement already satisfied, skipping upgrade: wrapt>=1.11.1 in /usr/local/lib/python3.6/dist-packages (from tensorflow==1.15) (1.11.2)\n",
            "Requirement already satisfied, skipping upgrade: werkzeug>=0.11.15 in /usr/local/lib/python3.6/dist-packages (from tensorboard<1.16.0,>=1.15.0->tensorflow==1.15) (0.16.0)\n",
            "Requirement already satisfied, skipping upgrade: setuptools>=41.0.0 in /usr/local/lib/python3.6/dist-packages (from tensorboard<1.16.0,>=1.15.0->tensorflow==1.15) (42.0.2)\n",
            "Requirement already satisfied, skipping upgrade: markdown>=2.6.8 in /usr/local/lib/python3.6/dist-packages (from tensorboard<1.16.0,>=1.15.0->tensorflow==1.15) (3.1.1)\n",
            "Requirement already satisfied, skipping upgrade: h5py in /usr/local/lib/python3.6/dist-packages (from keras-applications>=1.0.8->tensorflow==1.15) (2.8.0)\n",
            "\u001b[31mERROR: magenta 0.3.19 requires tensorflow-probability>=0.5.0, which is not installed.\u001b[0m\n",
            "Installing collected packages: tensorboard, tensorflow-estimator\n",
            "Successfully installed tensorboard-1.15.0 tensorflow-estimator-1.15.1\n",
            "Name: tensorflow\n",
            "Version: 1.15.0\n",
            "Summary: TensorFlow is an open source machine learning framework for everyone.\n",
            "Home-page: https://www.tensorflow.org/\n",
            "Author: Google Inc.\n",
            "Author-email: packages@tensorflow.org\n",
            "License: Apache 2.0\n",
            "Location: /usr/local/lib/python3.6/dist-packages\n",
            "Requires: wheel, wrapt, six, tensorboard, protobuf, google-pasta, numpy, tensorflow-estimator, absl-py, termcolor, grpcio, opt-einsum, keras-applications, keras-preprocessing, gast, astor\n",
            "Required-by: stable-baselines, magenta, fancyimpute\n",
            "Collecting grpcio\n",
            "\u001b[?25l  Downloading https://files.pythonhosted.org/packages/17/8f/f79c5c174bebece41f824dd7b1ba98da45dc2d4c373b38ac6a7f6a5acb5e/grpcio-1.26.0-cp36-cp36m-manylinux2010_x86_64.whl (2.4MB)\n",
            "\u001b[K     |████████████████████████████████| 2.4MB 9.9MB/s \n",
            "\u001b[?25hRequirement already satisfied, skipping upgrade: six>=1.5.2 in /usr/local/lib/python3.6/dist-packages (from grpcio) (1.12.0)\n",
            "\u001b[31mERROR: magenta 0.3.19 requires tensorflow-probability>=0.5.0, which is not installed.\u001b[0m\n",
            "Installing collected packages: grpcio\n",
            "  Found existing installation: grpcio 1.15.0\n",
            "    Uninstalling grpcio-1.15.0:\n",
            "      Successfully uninstalled grpcio-1.15.0\n",
            "Successfully installed grpcio-1.26.0\n"
          ],
          "name": "stdout"
        },
        {
          "output_type": "display_data",
          "data": {
            "application/vnd.colab-display-data+json": {
              "pip_warning": {
                "packages": [
                  "grpc"
                ]
              }
            }
          },
          "metadata": {
            "tags": []
          }
        }
      ]
    },
    {
      "cell_type": "markdown",
      "metadata": {
        "id": "s66V_gm7R_3Q",
        "colab_type": "text"
      },
      "source": [
        "**Launch Tensorboard**"
      ]
    },
    {
      "cell_type": "code",
      "metadata": {
        "id": "Vr47cYKNQ3F1",
        "colab_type": "code",
        "colab": {}
      },
      "source": [
        "%load_ext tensorboard\n",
        "%tensorboard --logdir '/content/gdrive/My Drive/ADL4CV/Code/Logs'"
      ],
      "execution_count": 0,
      "outputs": []
    },
    {
      "cell_type": "markdown",
      "metadata": {
        "id": "nfUjgJXhYYnh",
        "colab_type": "text"
      },
      "source": [
        "**TRAIN**"
      ]
    },
    {
      "cell_type": "code",
      "metadata": {
        "id": "61piGZ1ilmAG",
        "colab_type": "code",
        "colab": {}
      },
      "source": [
        ""
      ],
      "execution_count": 0,
      "outputs": []
    },
    {
      "cell_type": "code",
      "metadata": {
        "id": "AQ-VjkCPKtRD",
        "colab_type": "code",
        "outputId": "b32566e2-744f-4169-a96d-88586953207a",
        "colab": {
          "base_uri": "https://localhost:8080/",
          "height": 940
        }
      },
      "source": [
        "### Without depth ###\n",
        "%cd ~/futuregan\n",
        "#!python3 train.py --data_root='/root/futuregan/data/DEFORM_depth' --log_dir='/content/gdrive/My Drive/ADL4CV/Code/Logs' --tb_logging=1 --nc 3 --ngpu 1 --trns_tick 100 --stab_tick 100 --save_ckpt_every 500\n",
        "#!python3 train.py --data_root='/root/futuregan/data/DEFORM_depth/32x32_smalldataset/Train' --log_dir='/content/gdrive/My Drive/ADL4CV/Code/Logs' --max_resl 32 --tb_logging=1 --nc 3 --ngpu 1 --trns_tick 10 --stab_tick 10 --save_ckpt_every 10 --save_img_every 100 --random_seed 127 --use_ckpt=True --ckpt_path='/content/gdrive/My Drive/ADL4CV/Code/Logs/2019-12-30_144359/ckpts/gen_E61_I17263_R16x16_stab.pth.tar' --ckpt_path='/content/gdrive/My Drive/ADL4CV/Code/Logs/2019-12-30_144359/ckpts/dis_E61_I17263_R16x16_stab.pth.tar'\n",
        "### With depth ###\n",
        "#%cd ~/futuregan\n",
        "#!python3 train.py --data_root='/root/futuregan/data/DEFORM_depth/32x32_smalldataset/Train' --log_dir='/content/gdrive/My Drive/ADL4CV/Code/Logs' --max_resl 32 --tb_logging=1 --nc 4 --ngpu 1 --trns_tick 10 --stab_tick 10 --save_ckpt_every 200000000 --save_img_every 100 --random_seed 127\n",
        "\n",
        "### RGBD in, RGB out ###\n",
        "!python3 train.py --data_root='/root/futuregan/data/DEFORM_depth/32x32_smalldataset/Train' --log_dir='/content/gdrive/My Drive/ADL4CV/Code/Logs' --max_resl 32 --tb_logging=1 --nc_in 4 --nc_out 3 --ngpu 1 --trns_tick 10 --stab_tick 10 --save_ckpt_every 200000000 --save_img_every 100 --random_seed 127\n",
        "\n",
        "# Continue from checkpoint\n",
        "#!python3 train.py --data_root='/root/futuregan/data/DEFORM_depth' --log_dir='/content/gdrive/My Drive/ADL4CV/Code/Logs' --use_ckpt=True --ckpt_path='/content/gdrive/My Drive/ADL4CV/Code/Logs/2019-12-17_215913/ckpts/gen_E500_I3000_R16x16_stab.pth.tar' --ckpt_path='/content/gdrive/My Drive/ADL4CV/Code/Logs/2019-12-17_215913/ckpts/dis_E500_I3000_R16x16_stab.pth.tar' --tb_logging=1 --nc 4 --ngpu 1 --trns_tick 100 --stab_tick 100 --save_ckpt_every 500 --save_img_every 100 --random_seed 127"
      ],
      "execution_count": 0,
      "outputs": [
        {
          "output_type": "stream",
          "text": [
            "/root/futuregan\n",
            "Traceback (most recent call last):\n",
            "  File \"train.py\", line 122, in <module>\n",
            "    from tb_logger import Logger\n",
            "  File \"/root/futuregan/tb_logger.py\", line 10, in <module>\n",
            "    import tensorflow as tf\n",
            "  File \"/usr/local/lib/python3.6/dist-packages/tensorflow/__init__.py\", line 99, in <module>\n",
            "    from tensorflow_core import *\n",
            "  File \"/usr/local/lib/python3.6/dist-packages/tensorflow_core/__init__.py\", line 28, in <module>\n",
            "    from tensorflow.python import pywrap_tensorflow  # pylint: disable=unused-import\n",
            "  File \"<frozen importlib._bootstrap>\", line 1007, in _handle_fromlist\n",
            "  File \"/usr/local/lib/python3.6/dist-packages/tensorflow/__init__.py\", line 50, in __getattr__\n",
            "    module = self._load()\n",
            "  File \"/usr/local/lib/python3.6/dist-packages/tensorflow/__init__.py\", line 44, in _load\n",
            "    module = _importlib.import_module(self.__name__)\n",
            "  File \"/usr/lib/python3.6/importlib/__init__.py\", line 126, in import_module\n",
            "    return _bootstrap._gcd_import(name[level:], package, level)\n",
            "  File \"/usr/local/lib/python3.6/dist-packages/tensorflow_core/python/__init__.py\", line 84, in <module>\n",
            "    from tensorflow.python.feature_column import feature_column_lib as feature_column\n",
            "  File \"/usr/local/lib/python3.6/dist-packages/tensorflow_core/python/feature_column/feature_column_lib.py\", line 24, in <module>\n",
            "    from tensorflow.python.feature_column.dense_features_v2 import *\n",
            "  File \"/usr/local/lib/python3.6/dist-packages/tensorflow_core/python/feature_column/dense_features_v2.py\", line 21, in <module>\n",
            "    from tensorflow.python.feature_column import dense_features\n",
            "  File \"/usr/local/lib/python3.6/dist-packages/tensorflow_core/python/feature_column/dense_features.py\", line 23, in <module>\n",
            "    from tensorflow.python.feature_column import feature_column_v2 as fc\n",
            "  File \"/usr/local/lib/python3.6/dist-packages/tensorflow_core/python/feature_column/feature_column_v2.py\", line 3321, in <module>\n",
            "    'max_norm'))):\n",
            "  File \"/usr/lib/python3.6/collections/__init__.py\", line 429, in namedtuple\n",
            "    exec(class_definition, namespace)\n",
            "  File \"<string>\", line 1, in <module>\n",
            "KeyboardInterrupt\n"
          ],
          "name": "stdout"
        },
        {
          "output_type": "error",
          "ename": "KeyboardInterrupt",
          "evalue": "ignored",
          "traceback": [
            "\u001b[0;31m---------------------------------------------------------------------------\u001b[0m",
            "\u001b[0;31mKeyboardInterrupt\u001b[0m                         Traceback (most recent call last)",
            "\u001b[0;32m<ipython-input-17-4304b0ac4504>\u001b[0m in \u001b[0;36m<module>\u001b[0;34m()\u001b[0m\n\u001b[1;32m      7\u001b[0m \u001b[0;34m\u001b[0m\u001b[0m\n\u001b[1;32m      8\u001b[0m \u001b[0;31m### RGBD in, RGB out ###\u001b[0m\u001b[0;34m\u001b[0m\u001b[0;34m\u001b[0m\u001b[0;34m\u001b[0m\u001b[0m\n\u001b[0;32m----> 9\u001b[0;31m \u001b[0mget_ipython\u001b[0m\u001b[0;34m(\u001b[0m\u001b[0;34m)\u001b[0m\u001b[0;34m.\u001b[0m\u001b[0msystem\u001b[0m\u001b[0;34m(\u001b[0m\u001b[0;34m\"python3 train.py --data_root='/root/futuregan/data/DEFORM_depth/32x32_smalldataset/Train' --log_dir='/content/gdrive/My Drive/ADL4CV/Code/Logs' --max_resl 32 --tb_logging=1 --nc_in 4 --nc_out 3 --ngpu 1 --trns_tick 10 --stab_tick 10 --save_ckpt_every 200000000 --save_img_every 100 --random_seed 127\"\u001b[0m\u001b[0;34m)\u001b[0m\u001b[0;34m\u001b[0m\u001b[0;34m\u001b[0m\u001b[0m\n\u001b[0m\u001b[1;32m     10\u001b[0m \u001b[0;34m\u001b[0m\u001b[0m\n\u001b[1;32m     11\u001b[0m \u001b[0;31m# Continue from checkpoint\u001b[0m\u001b[0;34m\u001b[0m\u001b[0;34m\u001b[0m\u001b[0;34m\u001b[0m\u001b[0m\n",
            "\u001b[0;32m/usr/local/lib/python3.6/dist-packages/google/colab/_shell.py\u001b[0m in \u001b[0;36msystem\u001b[0;34m(self, *args, **kwargs)\u001b[0m\n\u001b[1;32m     94\u001b[0m       \u001b[0mkwargs\u001b[0m\u001b[0;34m.\u001b[0m\u001b[0mupdate\u001b[0m\u001b[0;34m(\u001b[0m\u001b[0;34m{\u001b[0m\u001b[0;34m'also_return_output'\u001b[0m\u001b[0;34m:\u001b[0m \u001b[0;32mTrue\u001b[0m\u001b[0;34m}\u001b[0m\u001b[0;34m)\u001b[0m\u001b[0;34m\u001b[0m\u001b[0;34m\u001b[0m\u001b[0m\n\u001b[1;32m     95\u001b[0m \u001b[0;34m\u001b[0m\u001b[0m\n\u001b[0;32m---> 96\u001b[0;31m     \u001b[0moutput\u001b[0m \u001b[0;34m=\u001b[0m \u001b[0m_system_commands\u001b[0m\u001b[0;34m.\u001b[0m\u001b[0m_system_compat\u001b[0m\u001b[0;34m(\u001b[0m\u001b[0mself\u001b[0m\u001b[0;34m,\u001b[0m \u001b[0;34m*\u001b[0m\u001b[0margs\u001b[0m\u001b[0;34m,\u001b[0m \u001b[0;34m**\u001b[0m\u001b[0mkwargs\u001b[0m\u001b[0;34m)\u001b[0m  \u001b[0;31m# pylint:disable=protected-access\u001b[0m\u001b[0;34m\u001b[0m\u001b[0;34m\u001b[0m\u001b[0m\n\u001b[0m\u001b[1;32m     97\u001b[0m \u001b[0;34m\u001b[0m\u001b[0m\n\u001b[1;32m     98\u001b[0m     \u001b[0;32mif\u001b[0m \u001b[0mpip_warn\u001b[0m\u001b[0;34m:\u001b[0m\u001b[0;34m\u001b[0m\u001b[0;34m\u001b[0m\u001b[0m\n",
            "\u001b[0;32m/usr/local/lib/python3.6/dist-packages/google/colab/_system_commands.py\u001b[0m in \u001b[0;36m_system_compat\u001b[0;34m(shell, cmd, also_return_output)\u001b[0m\n\u001b[1;32m    436\u001b[0m   \u001b[0;31m# stack.\u001b[0m\u001b[0;34m\u001b[0m\u001b[0;34m\u001b[0m\u001b[0;34m\u001b[0m\u001b[0m\n\u001b[1;32m    437\u001b[0m   result = _run_command(\n\u001b[0;32m--> 438\u001b[0;31m       shell.var_expand(cmd, depth=2), clear_streamed_output=False)\n\u001b[0m\u001b[1;32m    439\u001b[0m   \u001b[0mshell\u001b[0m\u001b[0;34m.\u001b[0m\u001b[0muser_ns\u001b[0m\u001b[0;34m[\u001b[0m\u001b[0;34m'_exit_code'\u001b[0m\u001b[0;34m]\u001b[0m \u001b[0;34m=\u001b[0m \u001b[0mresult\u001b[0m\u001b[0;34m.\u001b[0m\u001b[0mreturncode\u001b[0m\u001b[0;34m\u001b[0m\u001b[0;34m\u001b[0m\u001b[0m\n\u001b[1;32m    440\u001b[0m   \u001b[0;32mif\u001b[0m \u001b[0;34m-\u001b[0m\u001b[0mresult\u001b[0m\u001b[0;34m.\u001b[0m\u001b[0mreturncode\u001b[0m \u001b[0;32min\u001b[0m \u001b[0m_INTERRUPTED_SIGNALS\u001b[0m\u001b[0;34m:\u001b[0m\u001b[0;34m\u001b[0m\u001b[0;34m\u001b[0m\u001b[0m\n",
            "\u001b[0;32m/usr/local/lib/python3.6/dist-packages/google/colab/_system_commands.py\u001b[0m in \u001b[0;36m_run_command\u001b[0;34m(cmd, clear_streamed_output)\u001b[0m\n\u001b[1;32m    193\u001b[0m       \u001b[0mos\u001b[0m\u001b[0;34m.\u001b[0m\u001b[0mclose\u001b[0m\u001b[0;34m(\u001b[0m\u001b[0mchild_pty\u001b[0m\u001b[0;34m)\u001b[0m\u001b[0;34m\u001b[0m\u001b[0;34m\u001b[0m\u001b[0m\n\u001b[1;32m    194\u001b[0m \u001b[0;34m\u001b[0m\u001b[0m\n\u001b[0;32m--> 195\u001b[0;31m       \u001b[0;32mreturn\u001b[0m \u001b[0m_monitor_process\u001b[0m\u001b[0;34m(\u001b[0m\u001b[0mparent_pty\u001b[0m\u001b[0;34m,\u001b[0m \u001b[0mepoll\u001b[0m\u001b[0;34m,\u001b[0m \u001b[0mp\u001b[0m\u001b[0;34m,\u001b[0m \u001b[0mcmd\u001b[0m\u001b[0;34m,\u001b[0m \u001b[0mupdate_stdin_widget\u001b[0m\u001b[0;34m)\u001b[0m\u001b[0;34m\u001b[0m\u001b[0;34m\u001b[0m\u001b[0m\n\u001b[0m\u001b[1;32m    196\u001b[0m   \u001b[0;32mfinally\u001b[0m\u001b[0;34m:\u001b[0m\u001b[0;34m\u001b[0m\u001b[0;34m\u001b[0m\u001b[0m\n\u001b[1;32m    197\u001b[0m     \u001b[0mepoll\u001b[0m\u001b[0;34m.\u001b[0m\u001b[0mclose\u001b[0m\u001b[0;34m(\u001b[0m\u001b[0;34m)\u001b[0m\u001b[0;34m\u001b[0m\u001b[0;34m\u001b[0m\u001b[0m\n",
            "\u001b[0;32m/usr/lib/python3.6/contextlib.py\u001b[0m in \u001b[0;36m__exit__\u001b[0;34m(self, type, value, traceback)\u001b[0m\n\u001b[1;32m     86\u001b[0m         \u001b[0;32mif\u001b[0m \u001b[0mtype\u001b[0m \u001b[0;32mis\u001b[0m \u001b[0;32mNone\u001b[0m\u001b[0;34m:\u001b[0m\u001b[0;34m\u001b[0m\u001b[0;34m\u001b[0m\u001b[0m\n\u001b[1;32m     87\u001b[0m             \u001b[0;32mtry\u001b[0m\u001b[0;34m:\u001b[0m\u001b[0;34m\u001b[0m\u001b[0;34m\u001b[0m\u001b[0m\n\u001b[0;32m---> 88\u001b[0;31m                 \u001b[0mnext\u001b[0m\u001b[0;34m(\u001b[0m\u001b[0mself\u001b[0m\u001b[0;34m.\u001b[0m\u001b[0mgen\u001b[0m\u001b[0;34m)\u001b[0m\u001b[0;34m\u001b[0m\u001b[0;34m\u001b[0m\u001b[0m\n\u001b[0m\u001b[1;32m     89\u001b[0m             \u001b[0;32mexcept\u001b[0m \u001b[0mStopIteration\u001b[0m\u001b[0;34m:\u001b[0m\u001b[0;34m\u001b[0m\u001b[0;34m\u001b[0m\u001b[0m\n\u001b[1;32m     90\u001b[0m                 \u001b[0;32mreturn\u001b[0m \u001b[0;32mFalse\u001b[0m\u001b[0;34m\u001b[0m\u001b[0;34m\u001b[0m\u001b[0m\n",
            "\u001b[0;32m/usr/local/lib/python3.6/dist-packages/google/colab/_system_commands.py\u001b[0m in \u001b[0;36m_display_stdin_widget\u001b[0;34m(delay_millis)\u001b[0m\n\u001b[1;32m    353\u001b[0m \u001b[0;34m\u001b[0m\u001b[0m\n\u001b[1;32m    354\u001b[0m   \u001b[0mhide_args\u001b[0m \u001b[0;34m=\u001b[0m \u001b[0;34m[\u001b[0m\u001b[0;34m'cell_remove_stdin'\u001b[0m\u001b[0;34m,\u001b[0m \u001b[0;34m{\u001b[0m\u001b[0;34m}\u001b[0m\u001b[0;34m]\u001b[0m\u001b[0;34m\u001b[0m\u001b[0;34m\u001b[0m\u001b[0m\n\u001b[0;32m--> 355\u001b[0;31m   \u001b[0m_message\u001b[0m\u001b[0;34m.\u001b[0m\u001b[0mblocking_request\u001b[0m\u001b[0;34m(\u001b[0m\u001b[0;34m*\u001b[0m\u001b[0mhide_args\u001b[0m\u001b[0;34m,\u001b[0m \u001b[0mparent\u001b[0m\u001b[0;34m=\u001b[0m\u001b[0mshell\u001b[0m\u001b[0;34m.\u001b[0m\u001b[0mparent_header\u001b[0m\u001b[0;34m)\u001b[0m\u001b[0;34m\u001b[0m\u001b[0;34m\u001b[0m\u001b[0m\n\u001b[0m\u001b[1;32m    356\u001b[0m \u001b[0;34m\u001b[0m\u001b[0m\n\u001b[1;32m    357\u001b[0m \u001b[0;34m\u001b[0m\u001b[0m\n",
            "\u001b[0;32m/usr/local/lib/python3.6/dist-packages/google/colab/_message.py\u001b[0m in \u001b[0;36mblocking_request\u001b[0;34m(request_type, request, timeout_sec, parent)\u001b[0m\n\u001b[1;32m    169\u001b[0m   \u001b[0;31m# unique.\u001b[0m\u001b[0;34m\u001b[0m\u001b[0;34m\u001b[0m\u001b[0;34m\u001b[0m\u001b[0m\n\u001b[1;32m    170\u001b[0m   \u001b[0mrequest_id\u001b[0m \u001b[0;34m=\u001b[0m \u001b[0msend_request\u001b[0m\u001b[0;34m(\u001b[0m\u001b[0mrequest_type\u001b[0m\u001b[0;34m,\u001b[0m \u001b[0mrequest\u001b[0m\u001b[0;34m,\u001b[0m \u001b[0mparent\u001b[0m\u001b[0;34m=\u001b[0m\u001b[0mparent\u001b[0m\u001b[0;34m)\u001b[0m\u001b[0;34m\u001b[0m\u001b[0;34m\u001b[0m\u001b[0m\n\u001b[0;32m--> 171\u001b[0;31m   \u001b[0;32mreturn\u001b[0m \u001b[0mread_reply_from_input\u001b[0m\u001b[0;34m(\u001b[0m\u001b[0mrequest_id\u001b[0m\u001b[0;34m,\u001b[0m \u001b[0mtimeout_sec\u001b[0m\u001b[0;34m)\u001b[0m\u001b[0;34m\u001b[0m\u001b[0;34m\u001b[0m\u001b[0m\n\u001b[0m",
            "\u001b[0;32m/usr/local/lib/python3.6/dist-packages/google/colab/_message.py\u001b[0m in \u001b[0;36mread_reply_from_input\u001b[0;34m(message_id, timeout_sec)\u001b[0m\n\u001b[1;32m     99\u001b[0m     \u001b[0mreply\u001b[0m \u001b[0;34m=\u001b[0m \u001b[0m_read_next_input_message\u001b[0m\u001b[0;34m(\u001b[0m\u001b[0;34m)\u001b[0m\u001b[0;34m\u001b[0m\u001b[0;34m\u001b[0m\u001b[0m\n\u001b[1;32m    100\u001b[0m     \u001b[0;32mif\u001b[0m \u001b[0mreply\u001b[0m \u001b[0;34m==\u001b[0m \u001b[0m_NOT_READY\u001b[0m \u001b[0;32mor\u001b[0m \u001b[0;32mnot\u001b[0m \u001b[0misinstance\u001b[0m\u001b[0;34m(\u001b[0m\u001b[0mreply\u001b[0m\u001b[0;34m,\u001b[0m \u001b[0mdict\u001b[0m\u001b[0;34m)\u001b[0m\u001b[0;34m:\u001b[0m\u001b[0;34m\u001b[0m\u001b[0;34m\u001b[0m\u001b[0m\n\u001b[0;32m--> 101\u001b[0;31m       \u001b[0mtime\u001b[0m\u001b[0;34m.\u001b[0m\u001b[0msleep\u001b[0m\u001b[0;34m(\u001b[0m\u001b[0;36m0.025\u001b[0m\u001b[0;34m)\u001b[0m\u001b[0;34m\u001b[0m\u001b[0;34m\u001b[0m\u001b[0m\n\u001b[0m\u001b[1;32m    102\u001b[0m       \u001b[0;32mcontinue\u001b[0m\u001b[0;34m\u001b[0m\u001b[0;34m\u001b[0m\u001b[0m\n\u001b[1;32m    103\u001b[0m     if (reply.get('type') == 'colab_reply' and\n",
            "\u001b[0;31mKeyboardInterrupt\u001b[0m: "
          ]
        }
      ]
    },
    {
      "cell_type": "code",
      "metadata": {
        "id": "uYiI-c_k-IOa",
        "colab_type": "code",
        "outputId": "73bbcb6e-b88a-4774-9c83-c85772101e14",
        "colab": {
          "base_uri": "https://localhost:8080/",
          "height": 35
        }
      },
      "source": [
        "!python3 data_loader_test.py"
      ],
      "execution_count": 0,
      "outputs": [
        {
          "output_type": "stream",
          "text": [
            "python3: can't open file 'data_loader_test.py': [Errno 2] No such file or directory\n"
          ],
          "name": "stdout"
        }
      ]
    },
    {
      "cell_type": "markdown",
      "metadata": {
        "id": "pwc59bYDYbfg",
        "colab_type": "text"
      },
      "source": [
        "**EVAL**"
      ]
    },
    {
      "cell_type": "code",
      "metadata": {
        "id": "H0N2rIWhL2BA",
        "colab_type": "code",
        "outputId": "821bee90-caef-47e5-ecac-40520ecedf36",
        "colab": {
          "base_uri": "https://localhost:8080/",
          "height": 245
        }
      },
      "source": [
        "### Without depth ###\n",
        "%cd ~/futuregan\n",
        "#!python3 eval.py --data_root='/root/futuregan/data/DEFORM_depth/32x32_smalldataset/Test' --model_path='/content/gdrive/My Drive/ADL4CV/Code/Logs/2019-12-30_144359/ckpts/gen_E61_I17263_R16x16_stab.pth.tar' --test_dir='/content/gdrive/My Drive/ADL4CV/Code/Tests_temp' --nc 3 --resl 16 --random_seed 1578069505 --metrics='mse' --metrics='psnr' --metrics='ssim'\n",
        "### With depth ###\n",
        "#%cd ~/futuregan\n",
        "#!python3 eval.py --data_root='/root/futuregan/data/DEFORM_depth/32x32_smalldataset/Test' --model_path='/content/gdrive/My Drive/ADL4CV/Code/Logs/2019-12-31_091626/ckpts/gen_E61_I17263_R16x16_stab.pth.tar' --test_dir='/content/gdrive/My Drive/ADL4CV/Code/Tests_depth' --nc 4 --resl 16 --metrics='mse' --metrics='psnr' --metrics='ssim' --metrics_depth='mse' --metrics_depth='psnr'\n",
        "!python3 eval.py --data_root='/content/gdrive/My Drive/ADL4CV/Code/minitestset2' --model_path='/content/gdrive/My Drive/ADL4CV/Code/Logs/2019-12-31_091626/ckpts/gen_E61_I17263_R16x16_stab.pth.tar' --test_dir='/content/gdrive/My Drive/ADL4CV/Code/Tests_present_depth' --nc_in 4 --nc_out 4 --resl 16\n",
        "\n",
        "## With different in and out channels#\n",
        "#!python3 eval.py --data_root='/content/gdrive/My Drive/ADL4CV/Code/minitestset2' --model_path='/content/gdrive/My Drive/ADL4CV/Code/Logs/2020-01-14_213043/ckpts/gen_E61_I17263_R16x16_stab.pth.tar' --test_dir='/content/gdrive/My Drive/ADL4CV/Code/Tests_present_depthout' --nc_in 3 --nc_out 4 --resl 16 # --metrics='mse' --metrics='psnr' --metrics='ssim' # --metrics_depth='mse' --metrics_depth='psnr'"
      ],
      "execution_count": 0,
      "outputs": [
        {
          "output_type": "stream",
          "text": [
            "/root/futuregan\n",
            " ... loading FutureGAN`s FutureGenerator from checkpoint: /content/gdrive/My Drive/ADL4CV/Code/Logs/2019-12-31_091626/ckpts/gen_E61_I17263_R16x16_stab.pth.tar\n",
            "Initializing DeformDataset\n",
            " ... FutureGAN`s FutureGenerator has been loaded successfully from checkpoint ... \n",
            " ... saving model struture to <_io.TextIOWrapper name='/content/gdrive/My Drive/ADL4CV/Code/Tests_present_depth//pred/FutureGAN/model_structure_16x16.txt' mode='w' encoding='UTF-8'>\n",
            " ... loading test configuration ... \n",
            " ... saving test configuration <_io.TextIOWrapper name='/content/gdrive/My Drive/ADL4CV/Code/Tests_present_depth//pred/FutureGAN/eval_config.txt' mode='w' encoding='UTF-8'>\n",
            " ... testing FutureGAN ...\n",
            " ... predicting 6 future frames from 6 input frames ...\n",
            "100% 1/1 [00:03<00:00,  3.51s/it]\n",
            " ... saving video frames to dir: /content/gdrive/My Drive/ADL4CV/Code/Tests_present_depth//pred/FutureGAN/samples\n",
            " ... saving gifs to dir: /content/gdrive/My Drive/ADL4CV/Code/Tests_present_depth//pred/FutureGAN/samples\n"
          ],
          "name": "stdout"
        }
      ]
    },
    {
      "cell_type": "markdown",
      "metadata": {
        "id": "oyeQt7ybZyhe",
        "colab_type": "text"
      },
      "source": [
        "**Download test data**"
      ]
    },
    {
      "cell_type": "code",
      "metadata": {
        "id": "KDcbw2fTc1rh",
        "colab_type": "code",
        "outputId": "abf33402-71f0-4b4a-ec29-44ca5f7136bd",
        "colab": {
          "base_uri": "https://localhost:8080/",
          "height": 34
        }
      },
      "source": [
        "%cd \"/content/gdrive/My Drive/ADL4CV/Code/Tests_lastone/pred/FutureGAN/\"\n",
        "!zip -r samples_zipped_in_3.zip ./samples/in_gt/video2*  >/dev/null"
      ],
      "execution_count": 0,
      "outputs": [
        {
          "output_type": "stream",
          "text": [
            "/content/gdrive/My Drive/ADL4CV/Code/Tests_lastone/pred/FutureGAN\n"
          ],
          "name": "stdout"
        }
      ]
    },
    {
      "cell_type": "code",
      "metadata": {
        "id": "WcVlwdypcm-x",
        "colab_type": "code",
        "colab": {}
      },
      "source": [
        "from google.colab import files\n",
        "%cd \"/content/gdrive/My Drive/ADL4CV/Code/Tests_depth//pred/FutureGAN/\"\n",
        "files.download('samples_zipped.zip') "
      ],
      "execution_count": 0,
      "outputs": []
    },
    {
      "cell_type": "markdown",
      "metadata": {
        "id": "a77vj9VODp7u",
        "colab_type": "text"
      },
      "source": [
        "**Display results**"
      ]
    },
    {
      "cell_type": "code",
      "metadata": {
        "id": "5PBB6D6fFq62",
        "colab_type": "code",
        "outputId": "f46c3305-e816-413d-d272-d0dd222fbdb7",
        "colab": {
          "base_uri": "https://localhost:8080/",
          "height": 191
        }
      },
      "source": [
        "%cd \"/content/gdrive/My Drive/ADL4CV/Code/Tests_lastone//pred/FutureGAN/\"\n",
        "import torch\n",
        "scores_mse_avg = torch.load(\"mse_avg.pt\")\n",
        "scores_mse = torch.load(\"mse_frames.pt\")\n",
        "print(\"--- MSE scores: ---\")\n",
        "print(scores_mse.numpy())\n",
        "print(\"Average: \", scores_mse_avg.numpy())\n",
        "scores_psnr_avg = torch.load(\"psnr_avg.pt\")\n",
        "scores_psnr = torch.load(\"psnr_frames.pt\")\n",
        "print(\"--- PSNR scores: ---\")\n",
        "print(scores_psnr.numpy())\n",
        "print(\"Average: \", scores_psnr_avg.numpy())\n",
        "scores_ssim_avg = torch.load(\"ssim_avg.pt\")\n",
        "scores_ssim = torch.load(\"ssim_frames.pt\")\n",
        "print(\"--- SSIM scores: ---\")\n",
        "print(scores_ssim.numpy())\n",
        "print(\"Average: \", scores_ssim_avg.numpy())\n",
        "if False:\n",
        "  scores_mse_avg_depth = torch.load(\"mse_avg_depth.pt\")\n",
        "  scores_mse_depth = torch.load(\"mse_frames_depth.pt\")\n",
        "  print(\"--- DEPTH MSE scores: ---\")\n",
        "  print(scores_mse_depth.numpy())\n",
        "  print(\"Average: \", scores_mse_avg_depth.numpy())\n",
        "  scores_psnr_avg_depth = torch.load(\"psnr_avg_depth.pt\")\n",
        "  scores_psnr_depth = torch.load(\"psnr_frames_depth.pt\")\n",
        "  print(\"--- DEPTH PSNR scores: ---\")\n",
        "  print(scores_psnr_depth.numpy())\n",
        "  print(\"Average: \", scores_psnr_avg_depth.numpy())"
      ],
      "execution_count": 0,
      "outputs": [
        {
          "output_type": "stream",
          "text": [
            "/content/gdrive/My Drive/ADL4CV/Code/Tests_lastone/pred/FutureGAN\n",
            "--- MSE scores: ---\n",
            "[0.04677829 0.0572545  0.06651925 0.07384598 0.07864176 0.08869977]\n",
            "Average:  [0.06862327]\n",
            "--- PSNR scores: ---\n",
            "[19.694849 18.810787 18.131338 17.679878 17.418484 16.905685]\n",
            "Average:  [18.106821]\n",
            "--- SSIM scores: ---\n",
            "[0.72786313 0.6806642  0.64012235 0.6078373  0.5851683  0.5512285 ]\n",
            "Average:  [0.63214713]\n"
          ],
          "name": "stdout"
        }
      ]
    }
  ]
}