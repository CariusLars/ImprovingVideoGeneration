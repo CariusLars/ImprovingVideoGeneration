{
 "cells": [
  {
   "cell_type": "code",
   "execution_count": 10,
   "metadata": {},
   "outputs": [],
   "source": [
    "import torch\n",
    "import torch.nn as nn\n",
    "import numpy as np\n",
    "import scipy.optimize as opt"
   ]
  },
  {
   "cell_type": "code",
   "execution_count": 4,
   "metadata": {},
   "outputs": [],
   "source": [
    "x0 = np.array([5], dtype=np.float)"
   ]
  },
  {
   "cell_type": "code",
   "execution_count": 5,
   "metadata": {},
   "outputs": [],
   "source": [
    "class funct(nn.Module):\n",
    "    \n",
    "    def __init__(self):\n",
    "        super(funct, self).__init__()\n",
    "    \n",
    "    def forward(self, x):\n",
    "        \n",
    "        return torch.mul(x, x)"
   ]
  },
  {
   "cell_type": "code",
   "execution_count": 27,
   "metadata": {},
   "outputs": [],
   "source": [
    "class wrapper:\n",
    "    \n",
    "    def __init__(self, func):\n",
    "        self.func = func\n",
    "        \n",
    "    def fwd(self, x):\n",
    "        \n",
    "        x = torch.from_numpy(x)\n",
    "        self.out = self.func(x)\n",
    "        return self.out.numpy()\n",
    "    \n",
    "    def backward(self, x):\n",
    "        \n",
    "        self.func.zero_grad()\n",
    "        self.x = torch.from_numpy(x)\n",
    "        self.x.requires_grad = True\n",
    "        self.out = self.func(self.x)\n",
    "        self.out.backward()\n",
    "        return self.x.grad.numpy()"
   ]
  },
  {
   "cell_type": "code",
   "execution_count": 41,
   "metadata": {},
   "outputs": [],
   "source": [
    "func = funct()\n",
    "def fwd(x, inp, out):\n",
    "        \n",
    "    print(inp)\n",
    "    print(out)\n",
    "    x = torch.from_numpy(x)\n",
    "    out = func(x)\n",
    "    return out.numpy()\n",
    "    \n",
    "def backward(x, inp, out):\n",
    "    \n",
    "    print(inp)\n",
    "    print(out)\n",
    "    func.zero_grad()\n",
    "    x = torch.from_numpy(x)\n",
    "    x.requires_grad = True\n",
    "    out = func(x)\n",
    "    out.backward()\n",
    "    return x.grad.numpy()"
   ]
  },
  {
   "cell_type": "code",
   "execution_count": 38,
   "metadata": {},
   "outputs": [],
   "source": [
    "f = funct()\n",
    "wrap = wrapper(f)"
   ]
  },
  {
   "cell_type": "code",
   "execution_count": 39,
   "metadata": {},
   "outputs": [],
   "source": [
    "y = wrap.fwd(x0)\n",
    "yhat = wrap.backward(x0)"
   ]
  },
  {
   "cell_type": "code",
   "execution_count": 42,
   "metadata": {},
   "outputs": [
    {
     "name": "stdout",
     "output_type": "stream",
     "text": [
      "1\n",
      "2\n",
      "1\n",
      "2\n",
      "1\n",
      "2\n",
      "1\n",
      "2\n",
      "1\n",
      "2\n",
      "1\n",
      "2\n"
     ]
    }
   ],
   "source": [
    "res = opt.minimize(fun=fwd, x0=x0, args=(1, 2), method='L-BFGS-B', jac=backward)"
   ]
  },
  {
   "cell_type": "code",
   "execution_count": 36,
   "metadata": {},
   "outputs": [
    {
     "data": {
      "text/plain": [
       "      fun: array([0.])\n",
       " hess_inv: <1x1 LbfgsInvHessProduct with dtype=float64>\n",
       "      jac: array([0.])\n",
       "  message: b'CONVERGENCE: NORM_OF_PROJECTED_GRADIENT_<=_PGTOL'\n",
       "     nfev: 3\n",
       "      nit: 2\n",
       "   status: 0\n",
       "  success: True\n",
       "        x: array([0.])"
      ]
     },
     "execution_count": 36,
     "metadata": {},
     "output_type": "execute_result"
    }
   ],
   "source": [
    "res"
   ]
  },
  {
   "cell_type": "code",
   "execution_count": null,
   "metadata": {},
   "outputs": [],
   "source": []
  }
 ],
 "metadata": {
  "kernelspec": {
   "display_name": "Python 3",
   "language": "python",
   "name": "python3"
  },
  "language_info": {
   "codemirror_mode": {
    "name": "ipython",
    "version": 3
   },
   "file_extension": ".py",
   "mimetype": "text/x-python",
   "name": "python",
   "nbconvert_exporter": "python",
   "pygments_lexer": "ipython3",
   "version": "3.7.5"
  }
 },
 "nbformat": 4,
 "nbformat_minor": 2
}
