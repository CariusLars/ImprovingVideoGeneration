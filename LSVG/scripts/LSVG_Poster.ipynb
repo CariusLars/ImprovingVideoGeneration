{
 "cells": [
  {
   "cell_type": "code",
   "execution_count": 17,
   "metadata": {},
   "outputs": [],
   "source": [
    "import sys, os\n",
    "sys.path.append('/Users/michaelgentnermac/Documents/ADL4CV/video_interpolation/')\n",
    "import torch\n",
    "import torch.nn as nn\n",
    "from backprojection.bfgs import BFGSProjector\n",
    "from interpolate_latent.functions import *\n",
    "from models.wgan import Generator, Discriminator\n",
    "import torchvision.transforms as transforms\n",
    "from backprojection.criticprojector import CriticProjector\n",
    "import matplotlib.pyplot as plt\n",
    "\n",
    "netG = torch.load('/Users/michaelgentnermac/Documents/ADL4CV/final_models/wgan/g.pt',map_location=torch.device('cpu'))\n",
    "netG = netG.double().cpu()\n",
    "netD = torch.load('/Users/michaelgentnermac/Documents/ADL4CV/final_models/wgan/d.pt', map_location=torch.device('cpu'))\n",
    "netD = netD.double().cpu()\n",
    "netP = torch.load('/Users/michaelgentnermac/Documents/ADL4CV/final_models/backprojection/pnet_64.pt', map_location=torch.device('cpu'))\n",
    "netP = netP.double().cpu()\n",
    "\n",
    "netG = netG.eval()\n",
    "netD = netD.eval()\n",
    "netP = netP.eval()"
   ]
  },
  {
   "cell_type": "code",
   "execution_count": 2,
   "metadata": {},
   "outputs": [],
   "source": [
    "def create_train_valid_test_split(data):\n",
    "    train_data_len = int(data.shape[1]*0.8)\n",
    "    valid_data_len = int(data.shape[1]*0.1)\n",
    "    test_data_len = int(data.shape[1]*0.1)\n",
    "    train_data = data[:, 0:train_data_len, :, :]\n",
    "    valid_data = data[:, train_data_len:(valid_data_len+train_data_len), :, :]\n",
    "    test_data = data[:, (train_data_len+valid_data_len):(train_data_len+valid_data_len+test_data_len), :, :]\n",
    "    return train_data, valid_data, test_data"
   ]
  },
  {
   "cell_type": "code",
   "execution_count": 3,
   "metadata": {},
   "outputs": [],
   "source": [
    "def create_folder(path):\n",
    "    if not os.path.exists(path):\n",
    "        os.makedirs(path)"
   ]
  },
  {
   "cell_type": "code",
   "execution_count": 4,
   "metadata": {},
   "outputs": [],
   "source": [
    "data = np.load('/Users/michaelgentnermac/Documents/ADL4CV/mnist_test_seq_28.npy')\n",
    "train_data, valid_data, test_data = create_train_valid_test_split(data)\n",
    "toPil = transforms.ToPILImage()"
   ]
  },
  {
   "cell_type": "code",
   "execution_count": 37,
   "metadata": {},
   "outputs": [],
   "source": [
    "num_images = 10\n",
    "\n",
    "seq_length = test_data.shape[0]\n",
    "num_seq = test_data.shape[1]\n",
    "\n",
    "rand_imgs = np.random.randint(0, seq_length-1, num_images)\n",
    "rand_seq = np.random.randint(0, num_seq-1, num_images)"
   ]
  },
  {
   "cell_type": "code",
   "execution_count": 38,
   "metadata": {},
   "outputs": [],
   "source": [
    "folder_name = '479'\n",
    "projector = BFGSProjector(netG, 16, device='cpu', method = 'L-BFGS-B', loss = nn.BCELoss(), tol = None)"
   ]
  },
  {
   "cell_type": "code",
   "execution_count": 39,
   "metadata": {},
   "outputs": [
    {
     "name": "stdout",
     "output_type": "stream",
     "text": [
      "PNET&BFGS: Projecting image 0\n"
     ]
    },
    {
     "name": "stderr",
     "output_type": "stream",
     "text": [
      "/usr/local/lib/python3.7/site-packages/torch/nn/modules/loss.py:512: UserWarning: Using a target size (torch.Size([28, 28])) that is different to the input size (torch.Size([1, 1, 28, 28])) is deprecated. Please ensure they have the same size.\n",
      "  return F.binary_cross_entropy(input, target, weight=self.weight, reduction=self.reduction)\n"
     ]
    },
    {
     "name": "stdout",
     "output_type": "stream",
     "text": [
      "PNET&BFGS: Projecting image 1\n",
      "PNET&BFGS: Projecting image 2\n",
      "PNET&BFGS: Projecting image 3\n",
      "PNET&BFGS: Projecting image 4\n",
      "PNET&BFGS: Projecting image 5\n",
      "PNET&BFGS: Projecting image 6\n",
      "PNET&BFGS: Projecting image 7\n",
      "PNET&BFGS: Projecting image 8\n",
      "PNET&BFGS: Projecting image 9\n"
     ]
    }
   ],
   "source": [
    "#base_path = '/Users/michaelgentnermac/Documents/ADL4CV/results/Backprojection/'\n",
    "#create_folder(os.path.join(base_path, folder_name))\n",
    "\n",
    "pnetbfgs = []\n",
    "for i in range(num_images):\n",
    "    \n",
    "    img = torch.tensor(test_data[rand_imgs[i], rand_seq[i], :, :]).double().unsqueeze(0)\n",
    "    ##save original image\n",
    "    #path = os.path.join(base_path, folder_name, 'original')\n",
    "    #create_folder(path)\n",
    "    #toPil(img.squeeze().float()).save(os.path.join(path, str(i)+'.png'), 'PNG')\n",
    "   # \n",
    "    #save bfgs image\n",
    "    #print(\"BFGS: Projecting image {}\".format(i))\n",
    "    #path = os.path.join(base_path, folder_name, 'bfgs')\n",
    "    #create_folder(path)\n",
    "    #z = torch.tensor(projector.project(img.squeeze()).x)\n",
    "    #proj_img = netG(torch.tensor(z))\n",
    "    #toPil(proj_img.detach().squeeze().float()).save(os.path.join(path, str(i)+'.png'), 'PNG')\n",
    "    \n",
    "    #save pnet image\n",
    "    #print(\"PNET: Projecting image {}\".format(i))\n",
    "    #path = os.path.join(base_path, folder_name, 'pnet')\n",
    "    #create_folder(path)\n",
    "    #pnet_img = netG(netP(img))\n",
    "    #toPil(pnet_img.detach().squeeze().float()).save(os.path.join(path, str(i)+'.png'), 'PNG')\n",
    "    \n",
    "    #save pnet+bfgs image\n",
    "    print(\"PNET&BFGS: Projecting image {}\".format(i))\n",
    "    #path = os.path.join(base_path, folder_name, 'pnet_bfgs')\n",
    "    #create_folder(path)\n",
    "    z0 = netP(img).detach()\n",
    "    z = torch.tensor(projector.project(img.squeeze(), x0=z0).x).double()\n",
    "    pnetbfgs.append(z)\n",
    "    #pbfgs_img = netG(z)\n",
    "    #toPil(pbfgs_img.detach().squeeze().float()).save(os.path.join(path, str(i)+'.png'), 'PNG')"
   ]
  },
  {
   "cell_type": "code",
   "execution_count": 40,
   "metadata": {},
   "outputs": [
    {
     "name": "stdout",
     "output_type": "stream",
     "text": [
      "[tensor([-2.7919,  0.3824,  0.2838, -0.5157,  0.6493,  0.8887,  1.6027,  0.0848,\n",
      "        -0.0391,  0.2173, -2.6989,  0.5457,  1.1143,  0.0977,  2.4126, -0.5352],\n",
      "       dtype=torch.float64), tensor([-0.6738,  0.2817, -0.5229, -0.4080,  0.0636, -0.1824, -0.4179,  0.2007,\n",
      "         0.7948, -0.4716,  1.2981, -0.9067, -0.3409,  0.3867, -0.7097, -0.0404],\n",
      "       dtype=torch.float64), tensor([-0.6161, -0.8082, -0.4726, -0.0155,  1.3345,  0.1530,  0.3024,  1.4579,\n",
      "         0.8917,  1.3134,  0.1430,  0.9506, -1.2261,  1.6855,  1.9676, -1.1490],\n",
      "       dtype=torch.float64), tensor([-0.4642, -1.1432,  1.5899, -0.3616, -0.0801, -0.3664,  1.1511,  0.4540,\n",
      "        -1.1797, -0.7381, -0.7939,  0.6013, -2.5147,  3.0188,  0.6097, -3.1867],\n",
      "       dtype=torch.float64), tensor([ 0.2200,  1.1650,  1.5294, -1.2277,  0.8554,  2.2843, -0.6784,  1.3321,\n",
      "        -0.4966, -0.9816,  0.5849, -0.6960,  0.5653, -2.3439, -0.7885,  2.4575],\n",
      "       dtype=torch.float64), tensor([-0.6567,  0.5980,  1.1303,  0.1672,  1.0694, -0.3191, -0.0514,  1.5891,\n",
      "         1.3736, -2.2987,  0.3261,  0.0063,  1.0450, -0.2976,  0.4333,  0.7801],\n",
      "       dtype=torch.float64), tensor([ 1.3608, -0.5751, -0.1325,  0.9726, -0.4047,  2.7408, -0.4833,  1.0384,\n",
      "         0.2097, -1.3586,  0.1394,  0.9748,  0.3442, -0.5299, -0.8469, -0.1326],\n",
      "       dtype=torch.float64), tensor([-0.4065,  0.3535, -0.6456, -0.7290, -0.1134,  0.4009,  1.4659,  1.1783,\n",
      "         1.1280, -2.1052,  1.1712, -0.9221, -0.6808, -0.4139,  0.8260, -0.9342],\n",
      "       dtype=torch.float64), tensor([-2.1775, -0.5373,  0.2331,  0.7568,  0.4261, -0.2965, -1.1213, -0.1375,\n",
      "        -0.0268, -2.3471,  1.9326, -0.3350, -0.2144,  2.7280,  1.0538, -1.4177],\n",
      "       dtype=torch.float64), tensor([ 0.4970, -0.8946,  0.3833,  0.4716, -0.7474,  0.0111, -0.7460, -1.5879,\n",
      "        -1.2417, -0.4989,  0.5165, -0.9210, -0.1164,  0.9001,  1.5295, -0.3472],\n",
      "       dtype=torch.float64)]\n"
     ]
    }
   ],
   "source": [
    "print(pnetbfgs)"
   ]
  },
  {
   "cell_type": "code",
   "execution_count": 41,
   "metadata": {},
   "outputs": [],
   "source": [
    "c_projector = CriticProjector(netG, netD, torch.device('cpu'))\n",
    "#latent_vectors = pickle.load(open('/Users/michaelgentnermac/Documents/ADL4CV/final_models/latent_video_linear.pkl', 'rb'))"
   ]
  },
  {
   "cell_type": "code",
   "execution_count": 42,
   "metadata": {},
   "outputs": [
    {
     "name": "stderr",
     "output_type": "stream",
     "text": [
      "/Users/michaelgentnermac/Documents/ADL4CV/video_interpolation/backprojection/criticprojector.py:26: UserWarning: To copy construct from a tensor, it is recommended to use sourceTensor.clone().detach() or sourceTensor.clone().detach().requires_grad_(True), rather than torch.tensor(sourceTensor).\n",
      "  x0 = torch.tensor(x0).to(self.device)\n"
     ]
    }
   ],
   "source": [
    "z_d = []\n",
    "for vec in pnetbfgs:\n",
    "    \n",
    "    res = c_projector.project(vec, 100)\n",
    "    z_d.append(res.detach())\n",
    "\n"
   ]
  },
  {
   "cell_type": "code",
   "execution_count": 43,
   "metadata": {},
   "outputs": [
    {
     "name": "stderr",
     "output_type": "stream",
     "text": [
      "/usr/local/Cellar/ipython/7.5.0/libexec/vendor/lib/python3.7/site-packages/ipykernel_launcher.py:11: UserWarning: To copy construct from a tensor, it is recommended to use sourceTensor.clone().detach() or sourceTensor.clone().detach().requires_grad_(True), rather than torch.tensor(sourceTensor).\n",
      "  # This is added back by InteractiveShellApp.init_path()\n"
     ]
    },
    {
     "data": {
      "image/png": "[encoded data removed]",
      "text/plain": [
       "<Figure size 2160x720 with 30 Axes>"
      ]
     },
     "metadata": {
      "needs_background": "light"
     },
     "output_type": "display_data"
    }
   ],
   "source": [
    "fig = plt.figure(figsize=(30, 10))\n",
    "lstack = pnetbfgs + z_d\n",
    "gt = [test_data[rand_imgs[i], rand_seq[i], :, :] for i in range(num_images)]\n",
    "for i, img in enumerate(gt):\n",
    "    fig.add_subplot(3, len(gt), i+1)\n",
    "    plt.imshow(img)\n",
    "    \n",
    "for i, vec in enumerate(lstack):\n",
    "    \n",
    "    fig.add_subplot(3, len(pnetbfgs), (i+len(gt))+1)\n",
    "    img = netG(torch.tensor(vec)).detach().numpy().squeeze()\n",
    "    plt.imshow(img)\n",
    "plt.show()"
   ]
  },
  {
   "cell_type": "code",
   "execution_count": 45,
   "metadata": {},
   "outputs": [
    {
     "name": "stdout",
     "output_type": "stream",
     "text": [
      "PNET&BFGS: Projecting image 0\n",
      "D-Correction: Projecting image 0\n",
      "PNET&BFGS: Projecting image 1\n",
      "D-Correction: Projecting image 1\n",
      "PNET&BFGS: Projecting image 2\n",
      "D-Correction: Projecting image 2\n",
      "PNET&BFGS: Projecting image 3\n",
      "D-Correction: Projecting image 3\n",
      "PNET&BFGS: Projecting image 4\n",
      "D-Correction: Projecting image 4\n",
      "PNET&BFGS: Projecting image 5\n",
      "D-Correction: Projecting image 5\n",
      "PNET&BFGS: Projecting image 6\n",
      "D-Correction: Projecting image 6\n",
      "PNET&BFGS: Projecting image 7\n",
      "D-Correction: Projecting image 7\n",
      "PNET&BFGS: Projecting image 8\n",
      "D-Correction: Projecting image 8\n",
      "PNET&BFGS: Projecting image 9\n",
      "D-Correction: Projecting image 9\n"
     ]
    }
   ],
   "source": [
    "base_path = '/Users/michaelgentnermac/Documents/ADL4CV/results/d_correction/'\n",
    "folder_name = 'poster1'\n",
    "create_folder(os.path.join(base_path, folder_name))\n",
    "for i in range(num_images):\n",
    "    \n",
    "\n",
    "    #save original image\n",
    "    path = os.path.join(base_path, folder_name, 'original')\n",
    "    create_folder(path)\n",
    "    img = torch.tensor(gt[i])\n",
    "    toPil(img.squeeze().float()).save(os.path.join(path, str(i)+'.png'), 'PNG')\n",
    "    \n",
    "    #save pnet+bfgs image\n",
    "    print(\"PNET&BFGS: Projecting image {}\".format(i))\n",
    "    path = os.path.join(base_path, folder_name, 'pnet_bfgs')\n",
    "    create_folder(path)\n",
    "    pbfgs_img = netG(pnetbfgs[i])\n",
    "    toPil(pbfgs_img.detach().squeeze().float()).save(os.path.join(path, str(i)+'.png'), 'PNG')\n",
    "    \n",
    "    #save pnet+bfgs image\n",
    "    print(\"D-Correction: Projecting image {}\".format(i))\n",
    "    path = os.path.join(base_path, folder_name, 'd_corr')\n",
    "    create_folder(path)\n",
    "    pbfgs_img = netG(z_d[i])\n",
    "    toPil(pbfgs_img.detach().squeeze().float()).save(os.path.join(path, str(i)+'.png'), 'PNG')\n",
    "    "
   ]
  },
  {
   "cell_type": "code",
   "execution_count": null,
   "metadata": {},
   "outputs": [],
   "source": []
  }
 ],
 "metadata": {
  "kernelspec": {
   "display_name": "Python 3",
   "language": "python",
   "name": "python3"
  },
  "language_info": {
   "codemirror_mode": {
    "name": "ipython",
    "version": 3
   },
   "file_extension": ".py",
   "mimetype": "text/x-python",
   "name": "python",
   "nbconvert_exporter": "python",
   "pygments_lexer": "ipython3",
   "version": "3.7.5"
  }
 },
 "nbformat": 4,
 "nbformat_minor": 2
}
