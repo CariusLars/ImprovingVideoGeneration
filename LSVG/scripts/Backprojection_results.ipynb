{
 "cells": [
  {
   "cell_type": "code",
   "execution_count": 1,
   "metadata": {},
   "outputs": [],
   "source": [
    "import sys, os\n",
    "sys.path.append('/Users/michaelgentnermac/Documents/ADL4CV/video_interpolation/')\n",
    "import torch\n",
    "import torch.nn as nn\n",
    "from backprojection.bfgs import BFGSProjector\n",
    "from interpolate_latent.functions import *\n",
    "from models.wgan import Generator, Discriminator\n",
    "import torchvision.transforms as transforms\n",
    "netG = torch.load('/Users/michaelgentnermac/Documents/ADL4CV/final_models/wgan/g.pt',map_location=torch.device('cpu'))\n",
    "netG = netG.double().cpu()\n",
    "netD = torch.load('/Users/michaelgentnermac/Documents/ADL4CV/final_models/wgan/d.pt', map_location=torch.device('cpu'))\n",
    "netD = netD.double().cpu()\n",
    "netP = torch.load('/Users/michaelgentnermac/Documents/ADL4CV/final_models/backprojection/pnet_64.pt', map_location=torch.device('cpu'))\n",
    "netP = netP.double().cpu()\n",
    "\n",
    "netG = netG.eval()\n",
    "netD = netD.eval()\n",
    "netP = netP.eval()"
   ]
  },
  {
   "cell_type": "code",
   "execution_count": 2,
   "metadata": {},
   "outputs": [],
   "source": [
    "def create_train_valid_test_split(data):\n",
    "    train_data_len = int(data.shape[1]*0.8)\n",
    "    valid_data_len = int(data.shape[1]*0.1)\n",
    "    test_data_len = int(data.shape[1]*0.1)\n",
    "    train_data = data[:, 0:train_data_len, :, :]\n",
    "    valid_data = data[:, train_data_len:(valid_data_len+train_data_len), :, :]\n",
    "    test_data = data[:, (train_data_len+valid_data_len):(train_data_len+valid_data_len+test_data_len), :, :]\n",
    "    return train_data, valid_data, test_data"
   ]
  },
  {
   "cell_type": "code",
   "execution_count": 3,
   "metadata": {},
   "outputs": [],
   "source": [
    "def create_folder(path):\n",
    "    if not os.path.exists(path):\n",
    "        os.makedirs(path)"
   ]
  },
  {
   "cell_type": "code",
   "execution_count": 4,
   "metadata": {},
   "outputs": [],
   "source": [
    "data = np.load('/Users/michaelgentnermac/Documents/ADL4CV/mnist_test_seq_28.npy')\n",
    "train_data, valid_data, test_data = create_train_valid_test_split(data)\n",
    "toPil = transforms.ToPILImage()"
   ]
  },
  {
   "cell_type": "markdown",
   "metadata": {},
   "source": [
    "### Sample images"
   ]
  },
  {
   "cell_type": "code",
   "execution_count": 14,
   "metadata": {},
   "outputs": [],
   "source": [
    "num_images = 1\n",
    "\n",
    "seq_length = test_data.shape[0]\n",
    "num_seq = test_data.shape[1]\n",
    "\n",
    "rand_imgs = np.random.randint(0, seq_length-1, num_images)\n",
    "rand_seq = np.random.randint(0, num_seq-1, num_images)\n",
    "rand_seq = [479]\n",
    "rand_imgs = [6]"
   ]
  },
  {
   "cell_type": "code",
   "execution_count": 15,
   "metadata": {},
   "outputs": [],
   "source": [
    "folder_name = '479'\n",
    "projector = BFGSProjector(netG, 16, device='cpu', method = 'L-BFGS-B', loss = nn.BCELoss(), tol = None)"
   ]
  },
  {
   "cell_type": "code",
   "execution_count": 16,
   "metadata": {},
   "outputs": [
    {
     "name": "stdout",
     "output_type": "stream",
     "text": [
      "BFGS: Projecting image 0\n"
     ]
    },
    {
     "name": "stderr",
     "output_type": "stream",
     "text": [
      "/usr/local/Cellar/ipython/7.5.0/libexec/vendor/lib/python3.7/site-packages/ipykernel_launcher.py:16: UserWarning: To copy construct from a tensor, it is recommended to use sourceTensor.clone().detach() or sourceTensor.clone().detach().requires_grad_(True), rather than torch.tensor(sourceTensor).\n",
      "  app.launch_new_instance()\n"
     ]
    },
    {
     "name": "stdout",
     "output_type": "stream",
     "text": [
      "PNET: Projecting image 0\n",
      "PNET&BFGS: Projecting image 0\n"
     ]
    }
   ],
   "source": [
    "base_path = '/Users/michaelgentnermac/Documents/ADL4CV/results/Backprojection/'\n",
    "create_folder(os.path.join(base_path, folder_name))\n",
    "for i in range(num_images):\n",
    "    \n",
    "    img = torch.tensor(test_data[rand_imgs[i], rand_seq[i], :, :]).double().unsqueeze(0)\n",
    "    #save original image\n",
    "    path = os.path.join(base_path, folder_name, 'original')\n",
    "    create_folder(path)\n",
    "    toPil(img.squeeze().float()).save(os.path.join(path, str(i)+'.png'), 'PNG')\n",
    "    \n",
    "    #save bfgs image\n",
    "    print(\"BFGS: Projecting image {}\".format(i))\n",
    "    path = os.path.join(base_path, folder_name, 'bfgs')\n",
    "    create_folder(path)\n",
    "    z = torch.tensor(projector.project(img.squeeze()).x)\n",
    "    proj_img = netG(torch.tensor(z))\n",
    "    toPil(proj_img.detach().squeeze().float()).save(os.path.join(path, str(i)+'.png'), 'PNG')\n",
    "    \n",
    "    #save pnet image\n",
    "    print(\"PNET: Projecting image {}\".format(i))\n",
    "    path = os.path.join(base_path, folder_name, 'pnet')\n",
    "    create_folder(path)\n",
    "    pnet_img = netG(netP(img))\n",
    "    toPil(pnet_img.detach().squeeze().float()).save(os.path.join(path, str(i)+'.png'), 'PNG')\n",
    "    \n",
    "    #save pnet+bfgs image\n",
    "    print(\"PNET&BFGS: Projecting image {}\".format(i))\n",
    "    path = os.path.join(base_path, folder_name, 'pnet_bfgs')\n",
    "    create_folder(path)\n",
    "    z0 = netP(img).detach()\n",
    "    z = torch.tensor(projector.project(img.squeeze(), x0=z0).x).double()\n",
    "    pbfgs_img = netG(z)\n",
    "    toPil(pbfgs_img.detach().squeeze().float()).save(os.path.join(path, str(i)+'.png'), 'PNG')\n",
    "    "
   ]
  },
  {
   "cell_type": "code",
   "execution_count": null,
   "metadata": {},
   "outputs": [],
   "source": []
  }
 ],
 "metadata": {
  "kernelspec": {
   "display_name": "Python 3",
   "language": "python",
   "name": "python3"
  },
  "language_info": {
   "codemirror_mode": {
    "name": "ipython",
    "version": 3
   },
   "file_extension": ".py",
   "mimetype": "text/x-python",
   "name": "python",
   "nbconvert_exporter": "python",
   "pygments_lexer": "ipython3",
   "version": "3.7.5"
  }
 },
 "nbformat": 4,
 "nbformat_minor": 2
}
