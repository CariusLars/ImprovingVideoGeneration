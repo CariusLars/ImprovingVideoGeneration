{
  "nbformat": 4,
  "nbformat_minor": 0,
  "metadata": {
    "colab": {
      "name": "Pipeline.ipynb",
      "provenance": [],
      "collapsed_sections": []
    },
    "kernelspec": {
      "name": "python3",
      "display_name": "Python 3"
    },
    "accelerator": "GPU"
  },
  "cells": [
    {
      "cell_type": "markdown",
      "metadata": {
        "id": "9cHiiImXHoUh",
        "colab_type": "text"
      },
      "source": [
        "**Clone Repo**"
      ]
    },
    {
      "cell_type": "code",
      "metadata": {
        "id": "DQiioGhTHofU",
        "colab_type": "code",
        "outputId": "b37d255d-cdcf-4850-f51e-05ad48681392",
        "colab": {
          "base_uri": "https://localhost:8080/",
          "height": 260
        }
      },
      "source": [
        "from getpass import getpass\n",
        "import os\n",
        "%cd ~\n",
        "user = getpass('Gitlab user')\n",
        "password = getpass('Gitlab password')\n",
        "os.environ['GIT_AUTH'] = user + ':' + password\n",
        "\n",
        "!git clone https://$GIT_AUTH@gitlab.lrz.de/ge82yic/video_interpolation.git\n",
        "%cd video_interpolation\n",
        "!git checkout master\n",
        "!git pull"
      ],
      "execution_count": 0,
      "outputs": [
        {
          "output_type": "stream",
          "text": [
            "/root\n",
            "Gitlab user··········\n",
            "Gitlab password··········\n",
            "Cloning into 'video_interpolation'...\n",
            "remote: Enumerating objects: 25, done.\u001b[K\n",
            "remote: Counting objects: 100% (25/25), done.\u001b[K\n",
            "remote: Compressing objects: 100% (25/25), done.\u001b[K\n",
            "remote: Total 816 (delta 11), reused 0 (delta 0)\u001b[K\n",
            "Receiving objects: 100% (816/816), 5.91 MiB | 2.16 MiB/s, done.\n",
            "Resolving deltas: 100% (453/453), done.\n",
            "/root/video_interpolation\n",
            "Branch 'master' set up to track remote branch 'master' from 'origin'.\n",
            "Switched to a new branch 'master'\n",
            "Already up to date.\n"
          ],
          "name": "stdout"
        }
      ]
    },
    {
      "cell_type": "markdown",
      "metadata": {
        "id": "Jje47JqTJlH7",
        "colab_type": "text"
      },
      "source": [
        "**Mount drive**"
      ]
    },
    {
      "cell_type": "code",
      "metadata": {
        "id": "taowkplpGoUW",
        "colab_type": "code",
        "outputId": "3fc565b0-7d4a-4a29-d894-b9932cbcc285",
        "colab": {
          "base_uri": "https://localhost:8080/",
          "height": 124
        }
      },
      "source": [
        "from google.colab import drive\n",
        "\n",
        "drive.mount('/content/gdrive', force_remount=True)\n",
        "root_path = '/content/gdrive/My Drive/Logs/' "
      ],
      "execution_count": 0,
      "outputs": [
        {
          "output_type": "stream",
          "text": [
            "Go to this URL in a browser: https://accounts.google.com/o/oauth2/auth?client_id=947318989803-6bn6qk8qdgf4n4g3pfee6491hc0brc4i.apps.googleusercontent.com&redirect_uri=urn%3aietf%3awg%3aoauth%3a2.0%3aoob&response_type=code&scope=email%20https%3a%2f%2fwww.googleapis.com%2fauth%2fdocs.test%20https%3a%2f%2fwww.googleapis.com%2fauth%2fdrive%20https%3a%2f%2fwww.googleapis.com%2fauth%2fdrive.photos.readonly%20https%3a%2f%2fwww.googleapis.com%2fauth%2fpeopleapi.readonly\n",
            "\n",
            "Enter your authorization code:\n",
            "··········\n",
            "Mounted at /content/gdrive\n"
          ],
          "name": "stdout"
        }
      ]
    },
    {
      "cell_type": "markdown",
      "metadata": {
        "id": "FfnpqbZXJh0a",
        "colab_type": "text"
      },
      "source": [
        "**Initialize Moving Mnist Test set**"
      ]
    },
    {
      "cell_type": "code",
      "metadata": {
        "id": "fio8ti3cKiIz",
        "colab_type": "code",
        "colab": {}
      },
      "source": [
        "def create_train_valid_test_split(data):\n",
        "    train_data_len = int(data.shape[1]*0.8)\n",
        "    valid_data_len = int(data.shape[1]*0.1)\n",
        "    test_data_len = int(data.shape[1]*0.1)\n",
        "    train_data = data[:, 0:train_data_len, :, :]\n",
        "    valid_data = data[:, train_data_len:(valid_data_len+train_data_len), :, :]\n",
        "    test_data = data[:, (train_data_len+valid_data_len):(train_data_len+valid_data_len+test_data_len), :, :]\n",
        "    return train_data, valid_data, test_data"
      ],
      "execution_count": 0,
      "outputs": []
    },
    {
      "cell_type": "code",
      "metadata": {
        "id": "8QGupdfpGwVk",
        "colab_type": "code",
        "colab": {}
      },
      "source": [
        "import numpy as np\n",
        "import os,sys\n",
        "import torchvision.transforms as transforms\n",
        "import random\n",
        "import matplotlib.pyplot as plt\n",
        "data = np.load('/content/gdrive/My Drive/ADL4CV/Code_LSVG/mnist_test_seq.npy')\n",
        "train_data, valid_data, test_data = create_train_valid_test_split(data)\n",
        "transform = transforms.Resize(28)\n",
        "toPil = transforms.ToPILImage()\n",
        "toTensor = transforms.ToTensor()"
      ],
      "execution_count": 0,
      "outputs": []
    },
    {
      "cell_type": "markdown",
      "metadata": {
        "id": "tURb6x8ABQwa",
        "colab_type": "text"
      },
      "source": [
        "**Set the desired options**"
      ]
    },
    {
      "cell_type": "code",
      "metadata": {
        "id": "gdB1EOn-BZof",
        "colab_type": "code",
        "colab": {}
      },
      "source": [
        "# Prediction mode\n",
        "mode = \"framerate_upsampling\" # Options: past_video, future_video, framerate_upsampling, all\n",
        "# Interpolation method\n",
        "method = \"linear\" # Options: linear, quadratic, cubic, all\n",
        "# PCA (Principal Component Analysis)\n",
        "use_pca = False\n",
        "use_nonpca = True\n",
        "assert use_pca or use_nonpca, \"user_pca and use_nonpca can't both be false!\"\n",
        "# Result logging\n",
        "log = True\n",
        "# Number of input & output frames for the video generation\n",
        "num_input = 2\n",
        "num_output = 10\n",
        "#assert (num_input == 2) or (num_input == 4) or (num_input == 10), \"Only 2, 4 or 10 input frames supported right now\"\n",
        "# Pick custom frames from the input\n",
        "use_custom_frames = True\n",
        "custom_frames = [4, 9]\n",
        "if use_custom_frames:\n",
        "  assert len(custom_frames) == num_input, \"Number of custom frames must number of desired input frames\"\n",
        "# Select test set sequence\n",
        "seq = 444 # Good video sequences (without the numbers bouncing off) are: 554, 479, 444, 461\n",
        "if seq == None:\n",
        "  seq = random.randint(0,test_data.shape[1])\n",
        "# Set discriminator correction\n",
        "d_correct_backprojection = False\n",
        "d_correct_output = False\n",
        "projection_iters = 100\n",
        "if d_correct_backprojection or d_correct_output:\n",
        "  from backprojection.criticprojector import CriticProjector\n",
        "# Select path to log results to\n",
        "work_path = \"/content/gdrive/My Drive/ADL4CV/Code_LSVG/Results/\"+str(seq)\n",
        "if log and not os.path.exists(work_path):\n",
        "    os.makedirs(work_path)\n",
        "# Log settings\n",
        "if log:\n",
        "  import pickle\n",
        "  settings = [mode, method, use_pca, use_nonpca, log, num_input, num_output, use_custom_frames, custom_frames, seq, d_correct_backprojection, d_correct_output, projection_iters, work_path]\n",
        "  with open(work_path + \"/settings.pkl\", 'wb') as f:\n",
        "    pickle.dump(settings, f)"
      ],
      "execution_count": 0,
      "outputs": []
    },
    {
      "cell_type": "markdown",
      "metadata": {
        "id": "r5BkQJ1iBs91",
        "colab_type": "text"
      },
      "source": [
        "**Generate input**"
      ]
    },
    {
      "cell_type": "code",
      "metadata": {
        "id": "Z2jqTP_KLQuB",
        "colab_type": "code",
        "outputId": "82a10285-01fc-447f-f1e7-7c12e3a62b4d",
        "colab": {
          "base_uri": "https://localhost:8080/",
          "height": 398
        }
      },
      "source": [
        "print(\"Selected test set sequence {}: \".format(seq))\n",
        "sequence = test_data[:,seq,:,:]\n",
        "fig=plt.figure(figsize=(25,3))\n",
        "columns = 10\n",
        "rows = 1\n",
        "for i in range(1, columns*rows +1):\n",
        "    img = toTensor(transform(toPil(test_data[i-1, seq,:,:]))).numpy().squeeze()\n",
        "    fig.add_subplot(rows, columns, i)\n",
        "    plt.imshow(img)\n",
        "plt.show()\n",
        "if log:\n",
        "  fig.savefig(work_path + \"/groundtruth_sequence.svg\")\n",
        "# Choose frames of the video\n",
        "if use_custom_frames:\n",
        "  input_idx = custom_frames\n",
        "else:\n",
        "  if num_input==2: input_idx = [0,9]\n",
        "  elif num_input==4: input_idx = [0,3,6,9]\n",
        "  elif num_input==10: input_idx = [7,8,9,10,11,12,13,14,15,16]#[0,1,2,3,4,5,6,7,8,9]\n",
        "  else: raise NotImplementedError\n",
        "\n",
        "input_frames = []\n",
        "for idx in input_idx:\n",
        "  input_frames.append(toTensor(transform(toPil(test_data[idx, seq,:,:]))))\n",
        "print(\"Selected input frames: \")\n",
        "fig=plt.figure(figsize=(25,3))\n",
        "columns = len(input_frames)\n",
        "rows = 1\n",
        "for i in range(1, columns*rows +1):\n",
        "    img = toTensor(transform(toPil(test_data[input_idx[i-1], seq,:,:]))).numpy().squeeze()\n",
        "    fig.add_subplot(rows, columns, i)\n",
        "    plt.imshow(img)\n",
        "plt.show()\n",
        "if log:\n",
        "  fig.savefig(work_path + \"/input_frames.svg\")"
      ],
      "execution_count": 0,
      "outputs": [
        {
          "output_type": "stream",
          "text": [
            "Selected test set sequence 444: \n"
          ],
          "name": "stdout"
        },
        {
          "output_type": "display_data",
          "data": {
            "image/png": "[encoded data removed]",
            "text/plain": [
              "<Figure size 1800x216 with 10 Axes>"
            ]
          },
          "metadata": {
            "tags": []
          }
        },
        {
          "output_type": "stream",
          "text": [
            "Selected input frames: \n"
          ],
          "name": "stdout"
        },
        {
          "output_type": "display_data",
          "data": {
            "image/png": "[encoded data removed]",
            "text/plain": [
              "<Figure size 1800x216 with 2 Axes>"
            ]
          },
          "metadata": {
            "tags": []
          }
        }
      ]
    },
    {
      "cell_type": "markdown",
      "metadata": {
        "id": "irlKvGKzQErW",
        "colab_type": "text"
      },
      "source": [
        "**Load our trained GAN**"
      ]
    },
    {
      "cell_type": "code",
      "metadata": {
        "id": "yVAFUpmPJzWS",
        "colab_type": "code",
        "outputId": "cd520c34-9a43-4b22-a155-51fe7c3fb405",
        "colab": {
          "base_uri": "https://localhost:8080/",
          "height": 34
        }
      },
      "source": [
        "%cd /root/video_interpolation\n",
        "import torch\n",
        "import torch.nn as nn\n",
        "from backprojection.bfgs import BFGSProjector\n",
        "from interpolate_latent.functions import *\n",
        "from models.wgan import Generator, Discriminator\n",
        "\n",
        "netG = torch.load('/content/gdrive/My Drive/ADL4CV/Code_LSVG/Logs/21.01.2020-17:33:21/models/g.pt',map_location=torch.device('cpu'))\n",
        "netG.double().cpu()\n",
        "\n",
        "if d_correct_backprojection or d_correct_output:\n",
        "  netD = torch.load('/content/gdrive/My Drive/ADL4CV/Code_LSVG/Logs/21.01.2020-17:33:21/models/d.pt', map_location=torch.device('cpu'))\n",
        "  proj = CriticProjector(netG, netD, torch.device('cpu'))\n"
      ],
      "execution_count": 0,
      "outputs": [
        {
          "output_type": "stream",
          "text": [
            "/root/video_interpolation\n"
          ],
          "name": "stdout"
        }
      ]
    },
    {
      "cell_type": "markdown",
      "metadata": {
        "id": "2OROuJz4QMMv",
        "colab_type": "text"
      },
      "source": [
        "**Backproject input images**"
      ]
    },
    {
      "cell_type": "code",
      "metadata": {
        "id": "OhW7mZU7HZ4v",
        "colab_type": "code",
        "colab": {}
      },
      "source": [
        "from skimage.measure import compare_mse\n",
        "import models.pnet\n",
        "pnet = torch.load(\"/content/gdrive/My Drive/ADL4CV/Code_LSVG/pnet_64.pt\", map_location=torch.device(\"cpu\"))\n",
        "pnet.eval().double()\n",
        "for parameter in pnet.parameters():\n",
        "  parameter.requires_grad= False\n",
        "def backproject(input, counter):\n",
        "  projector_1 = BFGSProjector(netG, 16, device='cpu', method = 'L-BFGS-B', loss = nn.BCELoss(), tol = None)\n",
        "  #projector_2 = BFGSProjector(netG, 16, device='cpu', method = 'L-BFGS-B', loss = nn.BCELoss(), tol = 1e-20)\n",
        "  z0 = pnet(input.double().unsqueeze(0))\n",
        "  #z0_noisy = z0 + torch.randn(1,16)*0.5\n",
        "  #input = input.cuda()\n",
        "  z_1 = projector_1.project(input.double().unsqueeze(0), x0 = z0)\n",
        "  #z_2 = projector_2.project(input.double().unsqueeze(0), x0 = z0)\n",
        "  #z_3 = projector_2.project(input.double().unsqueeze(0), x0 = z_1.x)\n",
        "  #z_4 = projector_1.project(input.double().unsqueeze(0), x0 = z_2.x)\n",
        "  img_init = netG(z0)\n",
        "  res_img_1 = netG(torch.from_numpy(z_1.x))\n",
        "  if d_correct_backprojection:\n",
        "    z_proj = proj.project(z_1.x, projection_iters)\n",
        "    img_proj = netG(z_proj)\n",
        "\n",
        "  #res_img_2 = netG(torch.from_numpy(z_2.x))\n",
        "  #res_img_3 = netG(torch.from_numpy(z_3.x))\n",
        "  #res_img_4 = netG(torch.from_numpy(z_4.x))\n",
        "  \n",
        "  #img_noise = netG(z0_noisy)\n",
        "\n",
        "  if d_correct_backprojection:\n",
        "    fig = plt.figure(figsize=(16, 8))\n",
        "    sp_6 = fig.add_subplot(1, 4, 1)\n",
        "    sp_6.title.set_text(\"Pnet backprojection\")\n",
        "    plt.imshow(img_init.detach().squeeze())\n",
        "    sp_1 = fig.add_subplot(1, 4, 2)\n",
        "    sp_1.title.set_text(\"L-BFGS-B optimized\")\n",
        "    plt.imshow(res_img_1.detach().squeeze())\n",
        "    sp_3 = fig.add_subplot(1, 4, 3)\n",
        "    sp_3.title.set_text(\"L-BFGS-B + D-correction\")\n",
        "    plt.imshow(img_proj.detach().squeeze())\n",
        "    sp_5 = fig.add_subplot(1, 4, 4)\n",
        "    sp_5.title.set_text(\"Ground truth\")\n",
        "    plt.imshow(input.squeeze())\n",
        "  else:\n",
        "    fig = plt.figure(figsize=(12, 8))\n",
        "    sp_6 = fig.add_subplot(1, 3, 1)\n",
        "    sp_6.title.set_text(\"Pnet backprojection\")\n",
        "    plt.imshow(img_init.detach().squeeze())\n",
        "    sp_1 = fig.add_subplot(1, 3, 2)\n",
        "    sp_1.title.set_text(\"L-BFGS-B optimized\")\n",
        "    plt.imshow(res_img_1.detach().squeeze())\n",
        "    #sp_2 = fig.add_subplot(1, 6, 2)\n",
        "    #sp_2.title.set_text(\"BCE\")\n",
        "    #plt.imshow(res_img_2.detach().squeeze())\n",
        "    #sp_3 = fig.add_subplot(1, 6, 3)\n",
        "    #sp_3.title.set_text(\"MSE --> BCE\")\n",
        "    #plt.imshow(res_img_3.detach().squeeze())\n",
        "    #sp_4 = fig.add_subplot(1, 6, 4)\n",
        "    #sp_4.title.set_text(\"BCE --> MSE\")\n",
        "    #plt.imshow(res_img_4.detach().squeeze())\n",
        "    sp_5 = fig.add_subplot(1, 3, 3)\n",
        "    sp_5.title.set_text(\"Ground truth\")\n",
        "    plt.imshow(input.squeeze())\n",
        "  \n",
        "  #fig.add_subplot(1, 4, 7)\n",
        "  #plt.imshow(img_noise.detach().squeeze())\n",
        "  plt.show()\n",
        "  print(z_1.message)\n",
        "  #print(z_1.x)\n",
        "  #print(z_2)\n",
        "  #print(z_3)\n",
        "  #print(z_4)\n",
        "  #CALCULATE MSE\n",
        "  if d_correct_backprojection:\n",
        "    mse = compare_mse(input.detach().numpy().squeeze(), img_proj.detach().numpy().squeeze())\n",
        "    print(\"MSE (ground truth vs. L-BFGS-B + D-correction): {}.\".format(mse))\n",
        "  else:\n",
        "    mse = compare_mse(input.detach().numpy().squeeze(), res_img_1.detach().numpy().squeeze())\n",
        "    print(\"MSE (ground truth vs. L-BFGS-B): {}.\".format(mse))\n",
        "  if log:\n",
        "    if d_correct_backprojection:\n",
        "      fig.savefig(work_path + \"/backprojection_input_frame_\"+str(counter)+\"_d_corrected.svg\")\n",
        "    else:\n",
        "      fig.savefig(work_path + \"/backprojection_input_frame_\"+str(counter)+\".svg\")\n",
        "  return z_1.x, mse"
      ],
      "execution_count": 0,
      "outputs": []
    },
    {
      "cell_type": "code",
      "metadata": {
        "id": "XFzT0WHvQa65",
        "colab_type": "code",
        "outputId": "ee10140d-b915-4b4d-e30e-e8376466ce1c",
        "colab": {
          "base_uri": "https://localhost:8080/",
          "height": 612
        }
      },
      "source": [
        "latent_video_in = []\n",
        "mse_list = []\n",
        "counter = 0\n",
        "for frame in input_frames:\n",
        "  latent_vector, mse = backproject(frame, counter)\n",
        "  latent_video_in.append(latent_vector)\n",
        "  mse_list.append(mse)\n",
        "  counter += 1\n",
        "if log:\n",
        "  if d_correct_backprojection:\n",
        "    with open(work_path + \"/backprojected_input_frames_latent_vectors_d_corrected.pkl\", 'wb') as f:\n",
        "      pickle.dump(latent_video_in, f)\n",
        "    with open(work_path + \"/backprojected_input_frames_mse_d_corrected.pkl\", 'wb') as f2:\n",
        "      pickle.dump(mse_list, f2)\n",
        "  else:\n",
        "    with open(work_path + \"/backprojected_input_frames_latent_vectors.pkl\", 'wb') as f:\n",
        "      pickle.dump(latent_video_in, f)\n",
        "    with open(work_path + \"/backprojected_input_frames_mse.pkl\", 'wb') as f2:\n",
        "      pickle.dump(mse_list, f2)"
      ],
      "execution_count": 0,
      "outputs": [
        {
          "output_type": "display_data",
          "data": {
            "image/png": "[encoded data removed]",
            "text/plain": [
              "<Figure size 864x576 with 3 Axes>"
            ]
          },
          "metadata": {
            "tags": []
          }
        },
        {
          "output_type": "stream",
          "text": [
            "b'CONVERGENCE: REL_REDUCTION_OF_F_<=_FACTR*EPSMCH'\n",
            "MSE (ground truth vs. L-BFGS-B): 0.002407959058737354.\n"
          ],
          "name": "stdout"
        },
        {
          "output_type": "stream",
          "text": [
            "/usr/local/lib/python3.6/dist-packages/ipykernel_launcher.py:77: UserWarning: DEPRECATED: skimage.measure.compare_mse has been moved to skimage.metrics.mean_squared_error. It will be removed from skimage.measure in version 0.18.\n"
          ],
          "name": "stderr"
        },
        {
          "output_type": "display_data",
          "data": {
            "image/png": "[encoded data removed]",
            "text/plain": [
              "<Figure size 864x576 with 3 Axes>"
            ]
          },
          "metadata": {
            "tags": []
          }
        },
        {
          "output_type": "stream",
          "text": [
            "b'CONVERGENCE: REL_REDUCTION_OF_F_<=_FACTR*EPSMCH'\n",
            "MSE (ground truth vs. L-BFGS-B): 0.0042294947858557445.\n"
          ],
          "name": "stdout"
        }
      ]
    },
    {
      "cell_type": "markdown",
      "metadata": {
        "id": "bSM9JtuQhxOS",
        "colab_type": "text"
      },
      "source": [
        "**Perform PCA**"
      ]
    },
    {
      "cell_type": "code",
      "metadata": {
        "id": "BDeWZrmohwxj",
        "colab_type": "code",
        "colab": {}
      },
      "source": [
        "if use_pca:\n",
        "  from sklearn.decomposition import PCA\n",
        "  pca = PCA(.9999)\n",
        "  pca.fit(latent_video_in)\n",
        "  print(\"Number of principal components: {}\".format(pca.n_components_))\n",
        "  latent_video_in_pca = pca.transform(latent_video_in)\n",
        "  l1_errors=[]\n",
        "  for i in range(len(latent_video_in)):\n",
        "    l1_errors.append(np.abs(np.mean(np.abs(pca.inverse_transform(latent_video_in_pca[i])-latent_video_in[i]))))\n",
        "\n",
        "  print(\"Mean L1-error in backtransform: {} \\n Max L1-error in backtransform: {}\".format(np.mean(l1_errors), np.max(l1_errors)))\n",
        "  if log:\n",
        "    if d_correct_backprojection:\n",
        "      with open(work_path + \"/backprojected_input_frames_latent_vectors_d_corrected_PCA.pkl\", 'wb') as f:\n",
        "        pickle.dump(latent_video_in_pca, f)\n",
        "    else:\n",
        "      with open(work_path + \"/backprojected_input_frames_latent_vectors_PCA.pkl\", 'wb') as f:\n",
        "        pickle.dump(latent_video_in_pca, f)\n"
      ],
      "execution_count": 0,
      "outputs": []
    },
    {
      "cell_type": "code",
      "metadata": {
        "id": "gPDlVM0yr3Zu",
        "colab_type": "code",
        "colab": {}
      },
      "source": [
        "for i in range(len(latent_video_in)):\n",
        "  fig = plt.figure(figsize=(8, 8))\n",
        "\n",
        "  plt1 = fig.add_subplot(1, 2, 1)\n",
        "  plt1.title.set_text(\"Before PCA\")\n",
        "  plt.imshow(netG(torch.from_numpy(latent_video_in[i])).detach().squeeze())\n",
        "  plt2 = fig.add_subplot(1, 2, 2)\n",
        "  plt2.title.set_text(\"After PCA\")\n",
        "  plt.imshow(netG(torch.from_numpy(pca.inverse_transform(latent_video_in_pca[i]))).detach().squeeze())\n",
        "  plt.show()\n",
        "  if log:\n",
        "    if d_correct_backprojection:\n",
        "      fig.savefig(work_path + \"/backprojection_input_d_corrected_PCA_frame_\"+str(i)+\".svg\")\n",
        "    else:\n",
        "      fig.savefig(work_path + \"/backprojection_input_PCA_frame_\"+str(i)+\".svg\")"
      ],
      "execution_count": 0,
      "outputs": []
    },
    {
      "cell_type": "markdown",
      "metadata": {
        "id": "P9dx8nnTRlaW",
        "colab_type": "text"
      },
      "source": [
        "**Generate video frames in latent space**"
      ]
    },
    {
      "cell_type": "code",
      "metadata": {
        "id": "-YKB-2LNQ87Q",
        "colab_type": "code",
        "colab": {}
      },
      "source": [
        "if use_pca:\n",
        "  if mode == \"framerate_upsampling\" or mode == \"all\":\n",
        "    if method == \"all\":\n",
        "      latent_video_linear_framerate_upsampling_pca = pca.inverse_transform(latentVectorInterpolate(latent_video_in_pca, output_count = num_output, method = \"linear\"))\n",
        "      latent_video_quadratic_framerate_upsampling_pca = pca.inverse_transform(latentVectorInterpolate(latent_video_in_pca, output_count = num_output, method = \"quadratic\"))\n",
        "      latent_video_cubic_framerate_upsampling_pca = pca.inverse_transform(latentVectorInterpolate(latent_video_in_pca, output_count = num_output, method = \"cubic\"))\n",
        "      if d_correct_output:\n",
        "        latent_video_linear_framerate_upsampling_pca = [proj.project(vec, projection_iters).detach().numpy().squeeze() for vec in latent_video_linear_framerate_upsampling_pca]\n",
        "        latent_video_quadratic_framerate_upsampling_pca = [proj.project(vec, projection_iters).detach().numpy().squeeze() for vec in latent_video_quadratic_framerate_upsampling_pca]\n",
        "        latent_video_cubic_framerate_upsampling_pca = [proj.project(vec, projection_iters).detach().numpy().squeeze() for vec in latent_video_cubic_framerate_upsampling_pca]\n",
        "        d_correct_appendix = \"_d_corrected\"\n",
        "      else:\n",
        "        d_correct_appendix = \"\"\n",
        "      latent_video_customrank_framerate_upsampling_pca = []\n",
        "      for rank in range(1,11):\n",
        "        if d_correct_output:\n",
        "          latent_video_customrank_framerate_upsampling_pca.append([proj.project(vec, projection_iters).detach().numpy().squeeze() for vec in pca.inverse_transform(latentVectorInterpolate(latent_video_in_pca, output_count = num_output, method = \"customrank\", rank = rank))])\n",
        "        else:\n",
        "          latent_video_customrank_framerate_upsampling_pca.append(pca.inverse_transform(latentVectorInterpolate(latent_video_in_pca, output_count = num_output, method = \"customrank\", rank = rank)))\n",
        "\n",
        "      if log:\n",
        "        with open(work_path + \"/latent_video_framerate_upsampling_PCA_linear\"+d_correct_appendix+\".pkl\", 'wb') as f:\n",
        "          pickle.dump(latent_video_linear_framerate_upsampling_pca, f)\n",
        "        with open(work_path + \"/latent_video_framerate_upsampling_PCA_quadratic\"+d_correct_appendix+\".pkl\", 'wb') as f2:\n",
        "          pickle.dump(latent_video_quadratic_framerate_upsampling_pca, f2)\n",
        "        with open(work_path + \"/latent_video_framerate_upsampling_PCA_cubic\"+d_correct_appendix+\".pkl\", 'wb') as f3:\n",
        "          pickle.dump(latent_video_cubic_framerate_upsampling_pca, f3)\n",
        "        with open(work_path + \"/latent_video_framerate_upsampling_PCA_customrank\"+d_correct_appendix+\".pkl\", 'wb') as f4:\n",
        "          pickle.dump(latent_video_customrank_framerate_upsampling_pca, f4)\n",
        "    else:\n",
        "      latent_video_framerate_upsampling_pca = latentVectorInterpolate(latent_video_in, output_count = 10, method = method)\n",
        "      if d_correct_output:\n",
        "        latent_video_framerate_upsampling_pca = [proj.project(vec, projection_iters).detach().numpy().squeeze() for vec in latent_video_framerate_upsampling_pca]\n",
        "        d_correct_appendix = \"_d_corrected\"\n",
        "      else:\n",
        "        d_correct_appendix = \"\"\n",
        "      if log:\n",
        "        with open(work_path + \"/latent_video_framerate_upsampling_PCA_\"+method+d_correct_appendix+\".pkl\", 'wb') as f:\n",
        "          pickle.dump(latent_video_framerate_upsampling_pca, f)\n",
        "\n",
        "  if mode == \"future_video\" or mode == \"all\":\n",
        "    if method == \"all\":\n",
        "      latent_video_linear_future_video_pca = pca.inverse_transform(latentVectorExtrapolateForward(latent_video_in_pca, output_count = num_output, method = \"linear\", step_ratio = 0.1))\n",
        "      latent_video_quadratic_future_video_pca = pca.inverse_transform(latentVectorExtrapolateForward(latent_video_in_pca, output_count = num_output, method = \"quadratic\", step_ratio = 0.1))\n",
        "      latent_video_cubic_future_video_pca = pca.inverse_transform(latentVectorExtrapolateForward(latent_video_in_pca, output_count = num_output, method = \"cubic\", step_ratio = 0.1))\n",
        "      if d_correct_output:\n",
        "        latent_video_linear_future_video_pca = [proj.project(vec, projection_iters).detach().numpy().squeeze() for vec in latent_video_linear_future_video_pca]\n",
        "        latent_video_quadratic_future_video_pca = [proj.project(vec, projection_iters).detach().numpy().squeeze() for vec in latent_video_quadratic_future_video_pca]\n",
        "        latent_video_cubic_future_video_pca = [proj.project(vec, projection_iters).detach().numpy().squeeze() for vec in latent_video_cubic_future_video_pca]\n",
        "        d_correct_appendix = \"_d_corrected\"\n",
        "      else:\n",
        "        d_correct_appendix = \"\"\n",
        "      if log:\n",
        "        with open(work_path + \"/latent_video_future_video_PCA_linear\"+d_correct_appendix+\".pkl\", 'wb') as f:\n",
        "          pickle.dump(latent_video_linear_future_video_pca, f)\n",
        "        with open(work_path + \"/latent_video_future_video_PCA_quadratic\"+d_correct_appendix+\".pkl\", 'wb') as f2:\n",
        "          pickle.dump(latent_video_quadratic_future_video_pca, f2)\n",
        "        with open(work_path + \"/latent_video_future_video_PCA_cubic\"+d_correct_appendix+\".pkl\", 'wb') as f3:\n",
        "          pickle.dump(latent_video_cubic_future_video_pca, f3)\n",
        "    else:\n",
        "      latent_video_future_video_pca = pca.inverse_transform(latentVectorExtrapolateForward(latent_video_in_pca, output_count = num_output, method = method, step_ratio = 0.1))\n",
        "      if d_correct_output:\n",
        "        latent_video_future_video_pca = [proj.project(vec, projection_iters).detach().numpy().squeeze() for vec in latent_video_future_video_pca]\n",
        "        d_correct_appendix = \"_d_corrected\"\n",
        "      else:\n",
        "        d_correct_appendix = \"\"\n",
        "      if log:\n",
        "        with open(work_path + \"/latent_video_future_video_PCA_\"+method+d_correct_appendix+\".pkl\", 'wb') as f:\n",
        "          pickle.dump(latent_video_future_video_pca, f)\n",
        "  \n",
        "  if mode == \"past_video\" or mode == \"all\":\n",
        "    if method == \"all\":\n",
        "      latent_video_linear_past_video_pca = pca.inverse_transform(latentVectorExtrapolateBackward(latent_video_in_pca, output_count = num_output, method = \"linear\", step_ratio = 1))\n",
        "      latent_video_quadratic_past_video_pca = pca.inverse_transform(latentVectorExtrapolateBackward(latent_video_in_pca, output_count = num_output, method = \"quadratic\", step_ratio = 1))\n",
        "      latent_video_cubic_past_video_pca = pca.inverse_transform(latentVectorExtrapolateBackward(latent_video_in_pca, output_count = num_output, method = \"cubic\", step_ratio = 1))\n",
        "      if d_correct_output:\n",
        "        latent_video_linear_past_video_pca = [proj.project(vec, projection_iters).detach().numpy().squeeze() for vec in latent_video_linear_past_video_pca]\n",
        "        latent_video_quadratic_past_video_pca = [proj.project(vec, projection_iters).detach().numpy().squeeze() for vec in latent_video_quadratic_past_video_pca]\n",
        "        latent_video_cubic_past_video_pca = [proj.project(vec, projection_iters).detach().numpy().squeeze() for vec in latent_video_cubic_past_video_pca]\n",
        "        d_correct_appendix = \"_d_corrected\"\n",
        "      else:\n",
        "        d_correct_appendix = \"\"\n",
        "      if log:\n",
        "        with open(work_path + \"/latent_video_past_video_PCA_linear\"+d_correct_appendix+\".pkl\", 'wb') as f:\n",
        "          pickle.dump(latent_video_linear_past_video_pca, f)\n",
        "        with open(work_path + \"/latent_video_past_video_PCA_quadratic\"+d_correct_appendix+\".pkl\", 'wb') as f2:\n",
        "          pickle.dump(latent_video_quadratic_past_video_pca, f2)\n",
        "        with open(work_path + \"/latent_video_past_video_PCA_cubic\"+d_correct_appendix+\".pkl\", 'wb') as f3:\n",
        "          pickle.dump(latent_video_cubic_past_video_pca, f3)\n",
        "    else:\n",
        "      latent_video_past_video_pca = pca.inverse_transform(latentVectorExtrapolateBackward(latent_video_in_pca, output_count = num_output, method = method, step_ratio = 1))\n",
        "      if d_correct_output:\n",
        "        latent_video_past_video_pca = [proj.project(vec, projection_iters).detach().numpy().squeeze() for vec in latent_video_past_video_pca]\n",
        "        d_correct_appendix = \"_d_corrected\"\n",
        "      else:\n",
        "        d_correct_appendix = \"\"\n",
        "      if log:\n",
        "        with open(work_path + \"/latent_video_past_video_PCA_\"+method+d_correct_appendix+\".pkl\", 'wb') as f:\n",
        "          pickle.dump(latent_video_past_video_pca, f)\n",
        "\n",
        "\n",
        "if use_nonpca: \n",
        "\n",
        "  if mode == \"framerate_upsampling\" or mode == \"all\":\n",
        "    if method == \"all\":\n",
        "      latent_video_linear_framerate_upsampling = latentVectorInterpolate(latent_video_in, output_count = num_output, method = \"linear\")\n",
        "      latent_video_quadratic_framerate_upsampling = latentVectorInterpolate(latent_video_in, output_count = num_output, method = \"quadratic\")\n",
        "      latent_video_cubic_framerate_upsampling = latentVectorInterpolate(latent_video_in, output_count = num_output, method = \"cubic\")\n",
        "      if d_correct_output:\n",
        "        latent_video_linear_framerate_upsampling = [proj.project(vec, projection_iters).detach().numpy().squeeze() for vec in latent_video_linear_framerate_upsampling]\n",
        "        latent_video_quadratic_framerate_upsampling = [proj.project(vec, projection_iters).detach().numpy().squeeze() for vec in latent_video_quadratic_framerate_upsampling]\n",
        "        latent_video_cubic_framerate_upsampling = [proj.project(vec, projection_iters).detach().numpy().squeeze() for vec in latent_video_cubic_framerate_upsampling]\n",
        "        d_correct_appendix = \"_d_corrected\"\n",
        "      else:\n",
        "        d_correct_appendix = \"\"\n",
        "      latent_video_customrank_framerate_upsampling = []\n",
        "      for rank in range(1,11):\n",
        "        if d_correct_output:\n",
        "          latent_video_customrank_framerate_upsampling.append([proj.project(vec, projection_iters).detach().numpy().squeeze() for vec in latentVectorInterpolate(latent_video_in, output_count = num_output, method = \"customrank\", rank = rank)])\n",
        "        else:\n",
        "          latent_video_customrank_framerate_upsampling.append(latentVectorInterpolate(latent_video_in, output_count = num_output, method = \"customrank\", rank = rank))\n",
        "      if log:\n",
        "        with open(work_path + \"/latent_video_framerate_upsampling_linear\"+d_correct_appendix+\".pkl\", 'wb') as f:\n",
        "          pickle.dump(latent_video_linear_framerate_upsampling, f)\n",
        "        with open(work_path + \"/latent_video_framerate_upsampling_quadratic\"+d_correct_appendix+\".pkl\", 'wb') as f2:\n",
        "          pickle.dump(latent_video_quadratic_framerate_upsampling, f2)\n",
        "        with open(work_path + \"/latent_video_framerate_upsampling_cubic\"+d_correct_appendix+\".pkl\", 'wb') as f3:\n",
        "          pickle.dump(latent_video_cubic_framerate_upsampling, f3)\n",
        "        with open(work_path + \"/latent_video_framerate_upsampling_customrank\"+d_correct_appendix+\".pkl\", 'wb') as f4:\n",
        "          pickle.dump(latent_video_customrank_framerate_upsampling, f4)\n",
        "    else:\n",
        "      latent_video_framerate_upsampling = latentVectorInterpolate(latent_video_in, output_count = num_output, method = method)\n",
        "      if d_correct_output:\n",
        "        latent_video_framerate_upsampling = [proj.project(vec, projection_iters).detach().numpy().squeeze() for vec in latent_video_framerate_upsampling]\n",
        "        d_correct_appendix = \"_d_corrected\"\n",
        "      else:\n",
        "        d_correct_appendix = \"\"\n",
        "      if log:\n",
        "        with open(work_path + \"/latent_video_framerate_upsampling_\"+method+d_correct_appendix+\".pkl\", 'wb') as f:\n",
        "          pickle.dump(latent_video_framerate_upsampling, f)\n",
        "\n",
        "  if mode == \"past_video\" or mode == \"all\":\n",
        "    if method == \"all\":\n",
        "      latent_video_linear_past_video = latentVectorExtrapolateBackward(latent_video_in, output_count = num_output, method = \"linear\", step_ratio = 1)\n",
        "      latent_video_quadratic_past_video = latentVectorExtrapolateBackward(latent_video_in, output_count = num_output, method = \"quadratic\", step_ratio = 1)\n",
        "      latent_video_cubic_past_video = latentVectorExtrapolateBackward(latent_video_in, output_count = num_output, method = \"cubic\", step_ratio = 1)\n",
        "      if d_correct_output:\n",
        "        latent_video_linear_past_video = [proj.project(vec, projection_iters).detach().numpy().squeeze() for vec in latent_video_linear_past_video]\n",
        "        latent_video_quadratic_past_video = [proj.project(vec, projection_iters).detach().numpy().squeeze() for vec in latent_video_quadratic_past_video]\n",
        "        latent_video_cubic_past_video = [proj.project(vec, projection_iters).detach().numpy().squeeze() for vec in latent_video_cubic_past_video]\n",
        "        d_correct_appendix = \"_d_corrected\"\n",
        "      else:\n",
        "        d_correct_appendix = \"\"\n",
        "      if log:\n",
        "        with open(work_path + \"/latent_video_past_video_linear\"+d_correct_appendix+\".pkl\", 'wb') as f:\n",
        "          pickle.dump(latent_video_linear_past_video, f)\n",
        "        with open(work_path + \"/latent_video_past_video_quadratic\"+d_correct_appendix+\".pkl\", 'wb') as f2:\n",
        "          pickle.dump(latent_video_quadratic_past_video, f2)\n",
        "        with open(work_path + \"/latent_video_past_video_cubic\"+d_correct_appendix+\".pkl\", 'wb') as f3:\n",
        "          pickle.dump(latent_video_cubic_past_video, f3)\n",
        "    else:\n",
        "      latent_video_past_video = latentVectorExtrapolateBackward(latent_video_in, output_count = num_output, method = method, step_ratio = 1)\n",
        "      if d_correct_output:\n",
        "        latent_video_past_video = [proj.project(vec, projection_iters).detach().numpy().squeeze() for vec in latent_video_past_video]\n",
        "        d_correct_appendix = \"_d_corrected\"\n",
        "      else:\n",
        "        d_correct_appendix = \"\"\n",
        "      if log:\n",
        "        with open(work_path + \"/latent_video_past_video_\"+method+d_correct_appendix+\".pkl\", 'wb') as f:\n",
        "          pickle.dump(latent_video_past_video, f)\n",
        "\n",
        "  if mode == \"future_video\" or mode == \"all\":\n",
        "    if method == \"all\":\n",
        "      latent_video_linear_future_video = latentVectorExtrapolateForward(latent_video_in, output_count = num_output, method = \"linear\", step_ratio = 1)\n",
        "      latent_video_quadratic_future_video = latentVectorExtrapolateForward(latent_video_in, output_count = num_output, method = \"quadratic\", step_ratio = 1)\n",
        "      latent_video_cubic_future_video = latentVectorExtrapolateForward(latent_video_in, output_count = num_output, method = \"cubic\", step_ratio = 1)\n",
        "      if d_correct_output:\n",
        "        latent_video_linear_future_video = [proj.project(vec, projection_iters).detach().numpy().squeeze() for vec in latent_video_linear_future_video]\n",
        "        latent_video_quadratic_future_video = [proj.project(vec, projection_iters).detach().numpy().squeeze() for vec in latent_video_quadratic_future_video]\n",
        "        latent_video_cubic_future_video = [proj.project(vec, projection_iters).detach().numpy().squeeze() for vec in latent_video_cubic_future_video]\n",
        "        d_correct_appendix = \"_d_corrected\"\n",
        "      else:\n",
        "        d_correct_appendix = \"\"\n",
        "      if log:\n",
        "        with open(work_path + \"/latent_video_future_video_linear\"+d_correct_appendix+\".pkl\", 'wb') as f:\n",
        "          pickle.dump(latent_video_linear_future_video, f)\n",
        "        with open(work_path + \"/latent_video_future_video_quadratic\"+d_correct_appendix+\".pkl\", 'wb') as f2:\n",
        "          pickle.dump(latent_video_quadratic_future_video, f2)\n",
        "        with open(work_path + \"/latent_video_future_video_cubic\"+d_correct_appendix+\".pkl\", 'wb') as f3:\n",
        "          pickle.dump(latent_video_cubic_future_video, f3)\n",
        "    else:\n",
        "      latent_video_future_video = latentVectorExtrapolateForward(latent_video_in, output_count = num_output, method = method, step_ratio = 1)\n",
        "      if d_correct_output:\n",
        "        latent_video_future_video = [proj.project(vec, projection_iters).detach().numpy().squeeze() for vec in latent_video_future_video]\n",
        "        d_correct_appendix = \"_d_corrected\"\n",
        "      else:\n",
        "        d_correct_appendix = \"\"\n",
        "      if log:\n",
        "        with open(work_path + \"/latent_video_future_video_\"+method+d_correct_appendix+\".pkl\", 'wb') as f:\n",
        "          pickle.dump(latent_video_future_video, f)\n"
      ],
      "execution_count": 0,
      "outputs": []
    },
    {
      "cell_type": "markdown",
      "metadata": {
        "id": "jPvaVGzYSeVa",
        "colab_type": "text"
      },
      "source": [
        "**Generate video frames in image space**"
      ]
    },
    {
      "cell_type": "code",
      "metadata": {
        "id": "8CbLDQ1jSisC",
        "colab_type": "code",
        "outputId": "f5db0bc3-7b60-4c02-95b4-f6938a7edcc2",
        "colab": {
          "base_uri": "https://localhost:8080/",
          "height": 185
        }
      },
      "source": [
        "if d_correct_output and d_correct_backprojection:\n",
        "  d_correct_appendix = \"_d_corrected_in_out_\"\n",
        "elif d_correct_output:\n",
        "  d_correct_appendix = \"_d_corrected_out_\"\n",
        "elif d_correct_backprojection:\n",
        "  d_correct_appendix = \"_d_corrected_in_\"\n",
        "else:\n",
        "  d_correct_appendix = \"\"\n",
        "\n",
        "if d_correct_output:\n",
        "  print_appendix = \" and D-correction\"\n",
        "else:\n",
        "  print_appendix = \"\"\n",
        "\n",
        "if use_pca:\n",
        "  if mode == \"framerate_upsampling\" or mode == \"all\":\n",
        "    if method == \"all\":\n",
        "      fig=plt.figure(figsize=(25,3))\n",
        "      columns = len(latent_video_linear_framerate_upsampling_pca)\n",
        "      plot_counter = 1\n",
        "\n",
        "      for latent_frame in latent_video_linear_framerate_upsampling_pca:\n",
        "        frame_gen = netG(torch.from_numpy(latent_frame)).detach().numpy().squeeze()\n",
        "        fig.add_subplot(1, columns, plot_counter)\n",
        "        plot_counter += 1\n",
        "        plt.imshow(frame_gen)\n",
        "      print(\"Output video for mode framerate_upsampling with interpolation method [linear] with PCA\"+print_appendix+\":\")\n",
        "      plt.show()\n",
        "      if log:\n",
        "        fig.savefig(work_path + \"/output_video_linear_framerate_upsampling_pca\"+d_correct_appendix+\".svg\")\n",
        "\n",
        "      fig=plt.figure(figsize=(25,3))\n",
        "      columns = len(latent_video_quadratic_framerate_upsampling_pca)\n",
        "      plot_counter = 1\n",
        "\n",
        "      for latent_frame in latent_video_quadratic_framerate_upsampling_pca:\n",
        "        frame_gen = netG(torch.from_numpy(latent_frame)).detach().numpy().squeeze()\n",
        "        fig.add_subplot(1, columns, plot_counter)\n",
        "        plot_counter += 1\n",
        "        plt.imshow(frame_gen)\n",
        "      print(\"Output video for mode framerate_upsampling with interpolation method [quadratic] with PCA\"+print_appendix+\":\")\n",
        "      plt.show()\n",
        "      if log:\n",
        "        fig.savefig(work_path + \"/output_video_quadratic_framerate_upsampling_pca\"+d_correct_appendix+\".svg\")\n",
        "      \n",
        "      fig=plt.figure(figsize=(25,3))\n",
        "      columns = len(latent_video_cubic_framerate_upsampling_pca)\n",
        "      plot_counter = 1\n",
        "\n",
        "      for latent_frame in latent_video_cubic_framerate_upsampling_pca:\n",
        "        frame_gen = netG(torch.from_numpy(latent_frame)).detach().numpy().squeeze()\n",
        "        fig.add_subplot(1, columns, plot_counter)\n",
        "        plot_counter += 1\n",
        "        plt.imshow(frame_gen)\n",
        "      print(\"Output video for mode framerate_upsampling with interpolation method [cubic] with PCA\"+print_appendix+\":\")\n",
        "      plt.show()\n",
        "      if log:\n",
        "        fig.savefig(work_path + \"/output_video_cubic_framerate_upsampling_pca\"+d_correct_appendix+\".svg\") \n",
        "\n",
        "      for rank in range(10):\n",
        "        fig=plt.figure(figsize=(25,3))\n",
        "        columns = len(latent_video_cubic_framerate_upsampling_pca)\n",
        "        plot_counter = 1\n",
        "\n",
        "        for latent_frame in latent_video_customrank_framerate_upsampling_pca[rank]:\n",
        "          frame_gen = netG(torch.from_numpy(latent_frame)).detach().numpy().squeeze()\n",
        "          fig.add_subplot(1, columns, plot_counter)\n",
        "          plot_counter += 1\n",
        "          plt.imshow(frame_gen)\n",
        "        print(\"Output video for mode framerate_upsampling with custom interpolation rank {} with PCA\"+print_appendix+\":\".format(rank+1))\n",
        "        plt.show() \n",
        "        if log:\n",
        "          fig.savefig(work_path + \"/output_video_custom_rank_\"+str(rank+1)+\"_framerate_upsampling_pca\"+d_correct_appendix+\".svg\") \n",
        "\n",
        "    else:\n",
        "      fig=plt.figure(figsize=(25,3))\n",
        "      columns = len(latent_video_framerate_upsampling_pca)\n",
        "      plot_counter = 1\n",
        "\n",
        "      for latent_frame in latent_video_framerate_upsampling_pca:\n",
        "        frame_gen = netG(torch.from_numpy(latent_frame)).detach().numpy().squeeze()\n",
        "        fig.add_subplot(1, columns, plot_counter)\n",
        "        plot_counter += 1\n",
        "        plt.imshow(frame_gen)\n",
        "      print(\"Output video for mode framerate_upsampling with interpolation method [\" + method + \"] with PCA\"+print_appendix+\":\")\n",
        "      plt.show()\n",
        "      if log:\n",
        "        fig.savefig(work_path + \"/output_video_\"+method+\"_framerate_upsampling_pca\"+d_correct_appendix+\".svg\")\n",
        "\n",
        "  if mode == \"future_video\" or mode == \"all\":\n",
        "    if method == \"all\":\n",
        "      fig=plt.figure(figsize=(25,3))\n",
        "      columns = len(latent_video_linear_future_video_pca)\n",
        "      plot_counter = 1\n",
        "\n",
        "      for latent_frame in latent_video_linear_future_video_pca:\n",
        "        frame_gen = netG(torch.from_numpy(latent_frame)).detach().numpy().squeeze()\n",
        "        fig.add_subplot(1, columns, plot_counter)\n",
        "        plot_counter += 1\n",
        "        plt.imshow(frame_gen)\n",
        "      print(\"Output video for mode future_video with interpolation method [linear] with PCA\"+print_appendix+\":\")\n",
        "      plt.show()\n",
        "      if log:\n",
        "        fig.savefig(work_path + \"/output_video_linear_future_video_pca\"+d_correct_appendix+\".svg\")\n",
        "\n",
        "      fig=plt.figure(figsize=(25,3))\n",
        "      columns = len(latent_video_quadratic_future_video_pca)\n",
        "      plot_counter = 1\n",
        "\n",
        "      for latent_frame in latent_video_quadratic_future_video_pca:\n",
        "        frame_gen = netG(torch.from_numpy(latent_frame)).detach().numpy().squeeze()\n",
        "        fig.add_subplot(1, columns, plot_counter)\n",
        "        plot_counter += 1\n",
        "        plt.imshow(frame_gen)\n",
        "      print(\"Output video for mode future_video with interpolation method [quadratic] with PCA\"+print_appendix+\":\")\n",
        "      plt.show()\n",
        "      if log:\n",
        "        fig.savefig(work_path + \"/output_video_quadratic_future_video_pca\"+d_correct_appendix+\".svg\")\n",
        "      \n",
        "      fig=plt.figure(figsize=(25,3))\n",
        "      columns = len(latent_video_cubic_future_video_pca)\n",
        "      plot_counter = 1\n",
        "\n",
        "      for latent_frame in latent_video_cubic_future_video_pca:\n",
        "        frame_gen = netG(torch.from_numpy(latent_frame)).detach().numpy().squeeze()\n",
        "        fig.add_subplot(1, columns, plot_counter)\n",
        "        plot_counter += 1\n",
        "        plt.imshow(frame_gen)\n",
        "      print(\"Output video for mode future_video with interpolation method [cubic] with PCA\"+print_appendix+\":\")\n",
        "      plt.show()\n",
        "      if log:\n",
        "        fig.savefig(work_path + \"/output_video_cubic_future_video_pca\"+d_correct_appendix+\".svg\") \n",
        "\n",
        "    else:\n",
        "      fig=plt.figure(figsize=(25,3))\n",
        "      columns = len(latent_video_future_video_pca)\n",
        "      plot_counter = 1\n",
        "\n",
        "      for latent_frame in latent_video_future_video_pca:\n",
        "        frame_gen = netG(torch.from_numpy(latent_frame)).detach().numpy().squeeze()\n",
        "        fig.add_subplot(1, columns, plot_counter)\n",
        "        plot_counter += 1\n",
        "        plt.imshow(frame_gen)\n",
        "      print(\"Output video for mode future_video with interpolation method [\" + method + \"] with PCA\"+print_appendix+\":\")\n",
        "      plt.show()\n",
        "      if log:\n",
        "        fig.savefig(work_path + \"/output_video_\"+method+\"_future_video_pca\"+d_correct_appendix+\".svg\")\n",
        "\n",
        "  if mode == \"past_video\" or mode == \"all\":\n",
        "    if method == \"all\":\n",
        "      fig=plt.figure(figsize=(25,3))\n",
        "      columns = len(latent_video_linear_past_video_pca)\n",
        "      plot_counter = 1\n",
        "\n",
        "      for latent_frame in latent_video_linear_past_video_pca:\n",
        "        frame_gen = netG(torch.from_numpy(latent_frame)).detach().numpy().squeeze()\n",
        "        fig.add_subplot(1, columns, plot_counter)\n",
        "        plot_counter += 1\n",
        "        plt.imshow(frame_gen)\n",
        "      print(\"Output video for mode past_video with interpolation method [linear] with PCA\"+print_appendix+\":\")\n",
        "      plt.show()\n",
        "      if log:\n",
        "        fig.savefig(work_path + \"/output_video_linear_past_video_pca\"+d_correct_appendix+\".svg\")\n",
        "\n",
        "      fig=plt.figure(figsize=(25,3))\n",
        "      columns = len(latent_video_quadratic_past_video_pca)\n",
        "      plot_counter = 1\n",
        "\n",
        "      for latent_frame in latent_video_quadratic_past_video_pca:\n",
        "        frame_gen = netG(torch.from_numpy(latent_frame)).detach().numpy().squeeze()\n",
        "        fig.add_subplot(1, columns, plot_counter)\n",
        "        plot_counter += 1\n",
        "        plt.imshow(frame_gen)\n",
        "      print(\"Output video for mode past_video with interpolation method [quadratic] with PCA\"+print_appendix+\":\")\n",
        "      plt.show()\n",
        "      if log:\n",
        "        fig.savefig(work_path + \"/output_video_quadratic_past_video_pca\"+d_correct_appendix+\".svg\")\n",
        "      \n",
        "      fig=plt.figure(figsize=(25,3))\n",
        "      columns = len(latent_video_cubic_past_video_pca)\n",
        "      plot_counter = 1\n",
        "\n",
        "      for latent_frame in latent_video_cubic_past_video_pca:\n",
        "        frame_gen = netG(torch.from_numpy(latent_frame)).detach().numpy().squeeze()\n",
        "        fig.add_subplot(1, columns, plot_counter)\n",
        "        plot_counter += 1\n",
        "        plt.imshow(frame_gen)\n",
        "      print(\"Output video for mode past_video with interpolation method [cubic] with PCA\"+print_appendix+\":\")\n",
        "      plt.show()\n",
        "      if log:\n",
        "        fig.savefig(work_path + \"/output_video_cubic_past_video_pca\"+d_correct_appendix+\".svg\") \n",
        "    else:\n",
        "      fig=plt.figure(figsize=(25,3))\n",
        "      columns = len(latent_video_past_video_pca)\n",
        "      plot_counter = 1\n",
        "\n",
        "      for latent_frame in latent_video_past_video_pca:\n",
        "        frame_gen = netG(torch.from_numpy(latent_frame)).detach().numpy().squeeze()\n",
        "        fig.add_subplot(1, columns, plot_counter)\n",
        "        plot_counter += 1\n",
        "        plt.imshow(frame_gen)\n",
        "      print(\"Output video for mode past_video with interpolation method [\" + method + \"] with PCA\"+print_appendix+\":\")\n",
        "      plt.show()\n",
        "      if log:\n",
        "        fig.savefig(work_path + \"/output_video_\"+method+\"_past_video_pca\"+d_correct_appendix+\".svg\")\n",
        "\n",
        "if use_nonpca:\n",
        "  if mode == \"framerate_upsampling\" or mode == \"all\":\n",
        "    if method == \"all\":\n",
        "      fig=plt.figure(figsize=(25,3))\n",
        "      columns = len(latent_video_linear_framerate_upsampling)\n",
        "      plot_counter = 1\n",
        "\n",
        "      for latent_frame in latent_video_linear_framerate_upsampling:\n",
        "        frame_gen = netG(torch.from_numpy(latent_frame)).detach().numpy().squeeze()\n",
        "        fig.add_subplot(1, columns, plot_counter)\n",
        "        plot_counter += 1\n",
        "        plt.imshow(frame_gen)\n",
        "      print(\"Output video for mode framerate_upsampling with interpolation method [linear]\"+print_appendix+\":\")\n",
        "      plt.show()\n",
        "      if log:\n",
        "        fig.savefig(work_path + \"/output_video_linear_framerate_upsampling\"+d_correct_appendix+\".svg\")\n",
        "\n",
        "      fig=plt.figure(figsize=(25,3))\n",
        "      columns = len(latent_video_quadratic_framerate_upsampling)\n",
        "      plot_counter = 1\n",
        "\n",
        "      for latent_frame in latent_video_quadratic_framerate_upsampling:\n",
        "        frame_gen = netG(torch.from_numpy(latent_frame)).detach().numpy().squeeze()\n",
        "        fig.add_subplot(1, columns, plot_counter)\n",
        "        plot_counter += 1\n",
        "        plt.imshow(frame_gen)\n",
        "      print(\"Output video for mode framerate_upsampling with interpolation method [quadratic]\"+print_appendix+\":\")\n",
        "      plt.show()\n",
        "      if log:\n",
        "        fig.savefig(work_path + \"/output_video_quadratic_framerate_upsampling\"+d_correct_appendix+\".svg\")\n",
        "      \n",
        "      fig=plt.figure(figsize=(25,3))\n",
        "      columns = len(latent_video_cubic_framerate_upsampling)\n",
        "      plot_counter = 1\n",
        "\n",
        "      for latent_frame in latent_video_cubic_framerate_upsampling:\n",
        "        frame_gen = netG(torch.from_numpy(latent_frame)).detach().numpy().squeeze()\n",
        "        fig.add_subplot(1, columns, plot_counter)\n",
        "        plot_counter += 1\n",
        "        plt.imshow(frame_gen)\n",
        "      print(\"Output video for mode framerate_upsampling with interpolation method [cubic]\"+print_appendix+\":\")\n",
        "      plt.show()\n",
        "      if log:\n",
        "        fig.savefig(work_path + \"/output_video_cubic_framerate_upsampling\"+d_correct_appendix+\".svg\") \n",
        "\n",
        "      for rank in range(10):\n",
        "        fig=plt.figure(figsize=(25,3))\n",
        "        columns = len(latent_video_cubic_framerate_upsampling)\n",
        "        plot_counter = 1\n",
        "\n",
        "        for latent_frame in latent_video_customrank_framerate_upsampling[rank]:\n",
        "          frame_gen = netG(torch.from_numpy(latent_frame)).detach().numpy().squeeze()\n",
        "          fig.add_subplot(1, columns, plot_counter)\n",
        "          plot_counter += 1\n",
        "          plt.imshow(frame_gen)\n",
        "        print(\"Output video for mode framerate_upsampling with custom interpolation rank {}\"+print_appendix+\":\".format(rank+1))\n",
        "        plt.show() \n",
        "        if log:\n",
        "          fig.savefig(work_path + \"/output_video_custom_rank_\"+str(rank+1)+\"_framerate_upsampling\"+d_correct_appendix+\".svg\") \n",
        "\n",
        "    else:\n",
        "      fig=plt.figure(figsize=(25,3))\n",
        "      columns = len(latent_video_framerate_upsampling)\n",
        "      plot_counter = 1\n",
        "\n",
        "      for latent_frame in latent_video_framerate_upsampling:\n",
        "        frame_gen = netG(torch.from_numpy(latent_frame)).detach().numpy().squeeze()\n",
        "        fig.add_subplot(1, columns, plot_counter)\n",
        "        plot_counter += 1\n",
        "        plt.imshow(frame_gen)\n",
        "\n",
        "        #SAVEHERE\n",
        "        toPil(netG(torch.from_numpy(latent_frame)).detach().squeeze().float()).save(os.path.join(work_path, str(plot_counter)+'.png'), 'PNG')\n",
        "      print(\"Output video for mode framerate_upsampling with interpolation method [\" + method + \"]\"+print_appendix+\":\")\n",
        "      plt.show()\n",
        "      if log:\n",
        "        fig.savefig(work_path + \"/output_video_\"+method+\"_framerate_upsampling\"+d_correct_appendix+\".svg\")\n",
        "\n",
        "  if mode == \"future_video\" or mode == \"all\":\n",
        "    if method == \"all\":\n",
        "      fig=plt.figure(figsize=(25,3))\n",
        "      columns = len(latent_video_linear_future_video)\n",
        "      plot_counter = 1\n",
        "\n",
        "      for latent_frame in latent_video_linear_future_video:\n",
        "        frame_gen = netG(torch.from_numpy(latent_frame)).detach().numpy().squeeze()\n",
        "        fig.add_subplot(1, columns, plot_counter)\n",
        "        plot_counter += 1\n",
        "        plt.imshow(frame_gen)\n",
        "      print(\"Output video for mode future_video with interpolation method [linear]\"+print_appendix+\":\")\n",
        "      plt.show()\n",
        "      if log:\n",
        "        fig.savefig(work_path + \"/output_video_linear_future_video\"+d_correct_appendix+\".svg\")\n",
        "\n",
        "      fig=plt.figure(figsize=(25,3))\n",
        "      columns = len(latent_video_quadratic_future_video)\n",
        "      plot_counter = 1\n",
        "\n",
        "      for latent_frame in latent_video_quadratic_future_video:\n",
        "        frame_gen = netG(torch.from_numpy(latent_frame)).detach().numpy().squeeze()\n",
        "        fig.add_subplot(1, columns, plot_counter)\n",
        "        plot_counter += 1\n",
        "        plt.imshow(frame_gen)\n",
        "      print(\"Output video for mode future_video with interpolation method [quadratic]\"+print_appendix+\":\")\n",
        "      plt.show()\n",
        "      if log:\n",
        "        fig.savefig(work_path + \"/output_video_quadratic_future_video\"+d_correct_appendix+\".svg\")\n",
        "      \n",
        "      fig=plt.figure(figsize=(25,3))\n",
        "      columns = len(latent_video_cubic_future_video)\n",
        "      plot_counter = 1\n",
        "\n",
        "      for latent_frame in latent_video_cubic_future_video:\n",
        "        frame_gen = netG(torch.from_numpy(latent_frame)).detach().numpy().squeeze()\n",
        "        fig.add_subplot(1, columns, plot_counter)\n",
        "        plot_counter += 1\n",
        "        plt.imshow(frame_gen)\n",
        "      print(\"Output video for mode future_video with interpolation method [cubic]\"+print_appendix+\":\")\n",
        "      plt.show()\n",
        "      if log:\n",
        "        fig.savefig(work_path + \"/output_video_cubic_future_video\"+d_correct_appendix+\".svg\") \n",
        "\n",
        "    else:\n",
        "      fig=plt.figure(figsize=(25,3))\n",
        "      columns = len(latent_video_future_video)\n",
        "      plot_counter = 1\n",
        "\n",
        "      for latent_frame in latent_video_future_video:\n",
        "        frame_gen = netG(torch.from_numpy(latent_frame)).detach().numpy().squeeze()\n",
        "        fig.add_subplot(1, columns, plot_counter)\n",
        "        plot_counter += 1\n",
        "        plt.imshow(frame_gen)\n",
        "      print(\"Output video for mode future_video with interpolation method [\" + method + \"]\"+print_appendix+\":\")\n",
        "      plt.show()\n",
        "      if log:\n",
        "        fig.savefig(work_path + \"/output_video_\"+method+\"_future_video\"+d_correct_appendix+\".svg\")\n",
        "\n",
        "  if mode == \"past_video\" or mode == \"all\":\n",
        "    if method == \"all\":\n",
        "      fig=plt.figure(figsize=(25,3))\n",
        "      columns = len(latent_video_linear_past_video)\n",
        "      plot_counter = 1\n",
        "\n",
        "      for latent_frame in latent_video_linear_past_video:\n",
        "        frame_gen = netG(torch.from_numpy(latent_frame)).detach().numpy().squeeze()\n",
        "        fig.add_subplot(1, columns, plot_counter)\n",
        "        plot_counter += 1\n",
        "        plt.imshow(frame_gen)\n",
        "      print(\"Output video for mode past_video with interpolation method [linear]\"+print_appendix+\":\")\n",
        "      plt.show()\n",
        "      if log:\n",
        "        fig.savefig(work_path + \"/output_video_linear_past_video\"+d_correct_appendix+\".svg\")\n",
        "\n",
        "      fig=plt.figure(figsize=(25,3))\n",
        "      columns = len(latent_video_quadratic_past_video)\n",
        "      plot_counter = 1\n",
        "\n",
        "      for latent_frame in latent_video_quadratic_past_video:\n",
        "        frame_gen = netG(torch.from_numpy(latent_frame)).detach().numpy().squeeze()\n",
        "        fig.add_subplot(1, columns, plot_counter)\n",
        "        plot_counter += 1\n",
        "        plt.imshow(frame_gen)\n",
        "      print(\"Output video for mode past_video with interpolation method [quadratic]\"+print_appendix+\":\")\n",
        "      plt.show()\n",
        "      if log:\n",
        "        fig.savefig(work_path + \"/output_video_quadratic_past_video\"+d_correct_appendix+\".svg\")\n",
        "      \n",
        "      fig=plt.figure(figsize=(25,3))\n",
        "      columns = len(latent_video_cubic_past_video)\n",
        "      plot_counter = 1\n",
        "\n",
        "      for latent_frame in latent_video_cubic_past_video:\n",
        "        frame_gen = netG(torch.from_numpy(latent_frame)).detach().numpy().squeeze()\n",
        "        fig.add_subplot(1, columns, plot_counter)\n",
        "        plot_counter += 1\n",
        "        plt.imshow(frame_gen)\n",
        "      print(\"Output video for mode past_video with interpolation method [cubic]\"+print_appendix+\":\")\n",
        "      plt.show()\n",
        "      if log:\n",
        "        fig.savefig(work_path + \"/output_video_cubic_past_video\"+d_correct_appendix+\".svg\") \n",
        "    else:\n",
        "      fig=plt.figure(figsize=(25,3))\n",
        "      columns = len(latent_video_past_video)\n",
        "      plot_counter = 1\n",
        "\n",
        "      for latent_frame in latent_video_past_video:\n",
        "        frame_gen = netG(torch.from_numpy(latent_frame)).detach().numpy().squeeze()\n",
        "        fig.add_subplot(1, columns, plot_counter)\n",
        "        plot_counter += 1\n",
        "        plt.imshow(frame_gen)\n",
        "      print(\"Output video for mode past_video with interpolation method [\" + method + \"]\"+print_appendix+\":\")\n",
        "      plt.show()\n",
        "      if log:\n",
        "        fig.savefig(work_path + \"/output_video_\"+method+\"_past_video\"+d_correct_appendix+\".svg\")"
      ],
      "execution_count": 0,
      "outputs": [
        {
          "output_type": "stream",
          "text": [
            "Output video for mode framerate_upsampling with interpolation method [linear]:\n"
          ],
          "name": "stdout"
        },
        {
          "output_type": "display_data",
          "data": {
            "image/png": "[encoded data removed]",
            "text/plain": [
              "<Figure size 1800x216 with 10 Axes>"
            ]
          },
          "metadata": {
            "tags": []
          }
        }
      ]
    },
    {
      "cell_type": "markdown",
      "metadata": {
        "id": "p94OIvyT4-A1",
        "colab_type": "text"
      },
      "source": [
        "**--- BACKUP SNIPPETS ---**"
      ]
    },
    {
      "cell_type": "markdown",
      "metadata": {
        "id": "IwtCXtPDLuGy",
        "colab_type": "text"
      },
      "source": [
        "**Choose input latent vectors by hand**"
      ]
    },
    {
      "cell_type": "code",
      "metadata": {
        "id": "LrgEtDkYmdg0",
        "colab_type": "code",
        "colab": {}
      },
      "source": [
        "latent_vectors_chosen=[]"
      ],
      "execution_count": 0,
      "outputs": []
    },
    {
      "cell_type": "code",
      "metadata": {
        "id": "QJfb2rqfLwu9",
        "colab_type": "code",
        "colab": {}
      },
      "source": [
        "latent_vectors = []\n",
        "fig=plt.figure(figsize=(25,25))\n",
        "columns = 10\n",
        "rows = 10\n",
        "for i in range(1, columns*rows +1):\n",
        "    noise = torch.randn(1, 16)\n",
        "    latent_vectors.append(noise)\n",
        "    noisev = nn.Parameter(noise).double()\n",
        "    pred = nn.Parameter(netG(noisev))\n",
        "    img = pred.detach().numpy().squeeze()\n",
        "    fig.add_subplot(rows, columns, i)\n",
        "    plt.imshow(img)\n",
        "plt.show()"
      ],
      "execution_count": 0,
      "outputs": []
    },
    {
      "cell_type": "markdown",
      "metadata": {
        "id": "B9gLzdDwTX7n",
        "colab_type": "text"
      },
      "source": [
        "**Choose images from list**"
      ]
    },
    {
      "cell_type": "code",
      "metadata": {
        "id": "wDfN-cqmQoGv",
        "colab_type": "code",
        "colab": {}
      },
      "source": [
        "\n",
        "#latent_vectors_chosen.append(latent_vectors[40])\n",
        "fig=plt.figure(figsize=(3*len(latent_vectors_chosen),3))\n",
        "columns = len(latent_vectors_chosen)\n",
        "rows = 1\n",
        "for i in range(1, columns*rows +1):\n",
        "    input_vector = nn.Parameter(latent_vectors_chosen[i-1]).double()\n",
        "    pred = nn.Parameter(netG(input_vector))\n",
        "    img = pred.detach().numpy().squeeze()\n",
        "    fig.add_subplot(rows, columns, i)\n",
        "    plt.imshow(img)\n",
        "plt.show()"
      ],
      "execution_count": 0,
      "outputs": []
    },
    {
      "cell_type": "code",
      "metadata": {
        "id": "n9tx25nmmV-T",
        "colab_type": "code",
        "colab": {}
      },
      "source": [
        "import pickle\n",
        "with open('/content/gdrive/My Drive/ADL4CV/Code_LSVG/encoded_sequence_9and0.pkl', 'wb') as f:\n",
        "  pickle.dump(latent_vectors_chosen, f)"
      ],
      "execution_count": 0,
      "outputs": []
    },
    {
      "cell_type": "code",
      "metadata": {
        "id": "YhNhkwSon4zZ",
        "colab_type": "code",
        "colab": {}
      },
      "source": [
        "if not  os.path.exists(\"/content/gdrive/My Drive/ADL4CV/Code_LSVG/Results/handpicked_2\"):\n",
        "  os.makedirs(\"/content/gdrive/My Drive/ADL4CV/Code_LSVG/Results/handpicked_2\")\n",
        "fig.savefig(\"/content/gdrive/My Drive/ADL4CV/Code_LSVG/Results/handpicked_2/input.svg\")"
      ],
      "execution_count": 0,
      "outputs": []
    },
    {
      "cell_type": "code",
      "metadata": {
        "id": "rZBSAAm9qciO",
        "colab_type": "code",
        "colab": {}
      },
      "source": [
        "print([vec.numpy().squeeze() for vec in latent_vectors_chosen[0:2]])"
      ],
      "execution_count": 0,
      "outputs": []
    },
    {
      "cell_type": "code",
      "metadata": {
        "id": "nk-j3bNKUzI9",
        "colab_type": "code",
        "colab": {}
      },
      "source": [
        "latent_video = latentVectorInterpolate([vec.numpy().squeeze() for vec in latent_vectors_chosen[0:2]], output_count = 10, method = \"linear\")\n",
        "fig=plt.figure(figsize=(30,3))\n",
        "columns = len(latent_video)\n",
        "plot_counter = 1\n",
        "\n",
        "for latent_frame in latent_video:\n",
        "  frame_gen = netG(latent_frame.double()).detach().numpy().squeeze()\n",
        "  fig.add_subplot(1, columns, plot_counter)\n",
        "  plot_counter += 1\n",
        "  plt.imshow(frame_gen)\n",
        "plt.show()"
      ],
      "execution_count": 0,
      "outputs": []
    },
    {
      "cell_type": "code",
      "metadata": {
        "id": "zBG0_42nVpeA",
        "colab_type": "code",
        "colab": {}
      },
      "source": [
        "fig.savefig(\"/content/gdrive/My Drive/ADL4CV/Code_LSVG/Results/handpicked_2/output.svg\")"
      ],
      "execution_count": 0,
      "outputs": []
    },
    {
      "cell_type": "markdown",
      "metadata": {
        "id": "xKJgmkSsAuNX",
        "colab_type": "text"
      },
      "source": [
        "**Load backprojected latent vectors**"
      ]
    },
    {
      "cell_type": "code",
      "metadata": {
        "id": "MLrNv0InlPz2",
        "colab_type": "code",
        "colab": {}
      },
      "source": [
        "import pickle\n",
        "from skimage.measure import compare_mse\n",
        "latent_video_in = []\n",
        "if seq == 554:\n",
        "  with open('/content/gdrive/My Drive/ADL4CV/Code_LSVG/encoded_sequence_new.pkl', 'rb') as f:\n",
        "    latent_video_in = pickle.load(f)"
      ],
      "execution_count": 0,
      "outputs": []
    },
    {
      "cell_type": "markdown",
      "metadata": {
        "id": "fO8CeJ_q4wV4",
        "colab_type": "text"
      },
      "source": [
        "**Display backprojected latent vectors and their ground truth frame**"
      ]
    },
    {
      "cell_type": "code",
      "metadata": {
        "id": "Jb6QEsRtA2L6",
        "colab_type": "code",
        "colab": {}
      },
      "source": [
        "for i in range(len(latent_video_in)):\n",
        "  res_img = netG(torch.from_numpy(latent_video_in[i]))\n",
        "  fig = plt.figure(figsize=(8, 8))\n",
        "  fig.add_subplot(1, 2, 1)\n",
        "  plt.imshow(res_img.detach().squeeze())\n",
        "  fig.add_subplot(1, 2, 2)\n",
        "  plt.imshow(input_frames[i].squeeze())\n",
        "  plt.show()\n",
        "  #CALCULATE MSE\n",
        "  print(\"MSE: {}.\".format(compare_mse(input_frames[i].numpy().squeeze(), res_img.detach().numpy().squeeze())))"
      ],
      "execution_count": 0,
      "outputs": []
    }
  ]
}